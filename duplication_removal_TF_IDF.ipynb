{
 "cells": [
  {
   "cell_type": "code",
   "execution_count": 20,
   "id": "6142b6b5-d1ea-4667-b87e-b0e6d92562f3",
   "metadata": {},
   "outputs": [],
   "source": [
    "import requests\n",
    "from bs4 import BeautifulSoup\n",
    "import pandas as pd\n",
    "import time\n",
    "import csv\n",
    "import os\n",
    "\n",
    "from sklearn.feature_extraction.text import TfidfVectorizer\n",
    "from sklearn.metrics.pairwise import cosine_similarity"
   ]
  },
  {
   "cell_type": "code",
   "execution_count": 10,
   "id": "6bd865e2-0958-4db8-a26a-53006ae99316",
   "metadata": {},
   "outputs": [],
   "source": [
    "aapl_datetime = pd.read_csv('aapl.csv')"
   ]
  },
  {
   "cell_type": "code",
   "execution_count": 11,
   "id": "e800334d-228b-4059-af58-005e75ba6605",
   "metadata": {},
   "outputs": [
    {
     "name": "stdout",
     "output_type": "stream",
     "text": [
      "Index(['Unnamed: 0', 'time', 'headline', 'stock'], dtype='object')\n"
     ]
    }
   ],
   "source": [
    "columns = aapl_datetime.columns\n",
    "print(columns)"
   ]
  },
  {
   "cell_type": "code",
   "execution_count": 12,
   "id": "7cd22aa4-791c-436d-8b9d-fe7ea61d6cf8",
   "metadata": {},
   "outputs": [
    {
     "data": {
      "text/plain": [
       "0         3/3/2025 6:30:36 PM\n",
       "1         3/3/2025 6:02:56 PM\n",
       "2         3/3/2025 5:44:25 PM\n",
       "3         3/3/2025 5:11:24 PM\n",
       "4         3/3/2025 4:06:51 PM\n",
       "                 ...         \n",
       "20190    6/11/2011 7:36:28 AM\n",
       "20191     6/6/2011 9:33:12 PM\n",
       "20192     6/5/2011 7:56:02 PM\n",
       "20193    5/21/2011 5:33:49 AM\n",
       "20194    5/19/2011 9:53:02 AM\n",
       "Name: time, Length: 20195, dtype: object"
      ]
     },
     "execution_count": 12,
     "metadata": {},
     "output_type": "execute_result"
    }
   ],
   "source": [
    "aapl_datetime['time']"
   ]
  },
  {
   "cell_type": "code",
   "execution_count": 15,
   "id": "a6d36a9f-a620-4749-86f9-6ea95c005775",
   "metadata": {},
   "outputs": [],
   "source": [
    "# Convert the 'time' column to 'datetime' format so that we can extract the date and time separately in the next step\n",
    "aapl_datetime['time'] = pd.to_datetime(aapl_datetime['time'], format='%m-%d-%Y %I:%M:%S %p')"
   ]
  },
  {
   "cell_type": "code",
   "execution_count": 16,
   "id": "29e24261-23b1-411c-a965-287c66291985",
   "metadata": {},
   "outputs": [],
   "source": [
    "# Extract the date and time  and put them in separate columns\n",
    "aapl_datetime['date'] = aapl_datetime['time'].dt.date\n",
    "aapl_datetime['exact_time'] = aapl_datetime['time'].dt.time"
   ]
  },
  {
   "cell_type": "code",
   "execution_count": 17,
   "id": "d94923c7-6932-440b-8284-ff5dd2d0ed20",
   "metadata": {},
   "outputs": [
    {
     "data": {
      "text/plain": [
       "0        2025-03-03\n",
       "1        2025-03-03\n",
       "2        2025-03-03\n",
       "3        2025-03-03\n",
       "4        2025-03-03\n",
       "            ...    \n",
       "20190    2011-06-11\n",
       "20191    2011-06-06\n",
       "20192    2011-06-05\n",
       "20193    2011-05-21\n",
       "20194    2011-05-19\n",
       "Name: date, Length: 20195, dtype: object"
      ]
     },
     "execution_count": 17,
     "metadata": {},
     "output_type": "execute_result"
    }
   ],
   "source": [
    "aapl_datetime['date']"
   ]
  },
  {
   "cell_type": "code",
   "execution_count": 18,
   "id": "ea927620-95bc-4b7a-85d0-1394232363d0",
   "metadata": {},
   "outputs": [
    {
     "data": {
      "text/plain": [
       "0        18:30:36\n",
       "1        18:02:56\n",
       "2        17:44:25\n",
       "3        17:11:24\n",
       "4        16:06:51\n",
       "           ...   \n",
       "20190    07:36:28\n",
       "20191    21:33:12\n",
       "20192    19:56:02\n",
       "20193    05:33:49\n",
       "20194    09:53:02\n",
       "Name: exact_time, Length: 20195, dtype: object"
      ]
     },
     "execution_count": 18,
     "metadata": {},
     "output_type": "execute_result"
    }
   ],
   "source": [
    "aapl_datetime['exact_time']"
   ]
  },
  {
   "cell_type": "code",
   "execution_count": 19,
   "id": "265f0f12-7d04-4ace-b3de-56aaf2d38b91",
   "metadata": {},
   "outputs": [],
   "source": [
    "# Create a csv\n",
    "aapl_datetime.to_csv('aapl_datetime.csv')"
   ]
  },
  {
   "cell_type": "code",
   "execution_count": 23,
   "id": "06a23908-89bb-4fd5-b03d-3031a62c27f4",
   "metadata": {},
   "outputs": [
    {
     "name": "stdout",
     "output_type": "stream",
     "text": [
      "       Unnamed: 0                time  \\\n",
      "0               0 2025-03-03 18:30:36   \n",
      "1               1 2025-03-03 18:02:56   \n",
      "2               2 2025-03-03 17:44:25   \n",
      "3               3 2025-03-03 17:11:24   \n",
      "4               4 2025-03-03 16:06:51   \n",
      "...           ...                 ...   \n",
      "17680       20190 2011-06-11 07:36:28   \n",
      "17681       20191 2011-06-06 21:33:12   \n",
      "17682       20192 2011-06-05 19:56:02   \n",
      "17683       20193 2011-05-21 05:33:49   \n",
      "17684       20194 2011-05-19 09:53:02   \n",
      "\n",
      "                                                headline stock        date  \\\n",
      "0      AI Daily: Analyst sees Apple, Alibaba partners...  aapl  2025-03-03   \n",
      "1      Apple’s iPhone 16e Is Likely to Underwhelm, Sa...  aapl  2025-03-03   \n",
      "2      Is a $100B TSMC U.S. Manufacturing Investment ...  aapl  2025-03-03   \n",
      "3      Trump announces crypto reserve, Kroger CEO res...  aapl  2025-03-03   \n",
      "4      Apple CEO teases ‘something in the Air’ this week  aapl  2025-03-03   \n",
      "...                                                  ...   ...         ...   \n",
      "17680          Apple recalls some Verizon iPad 2 tablets  aapl  2011-06-11   \n",
      "17681    Wall Street extends losses as banks, Apple drag  aapl  2011-06-06   \n",
      "17682    Apple readies latest version of the halo effect  aapl  2011-06-05   \n",
      "17683  Apple probes blast at Chinese plant linked to ...  aapl  2011-05-21   \n",
      "17684  Google, Apple not unassailable in smartphone race  aapl  2011-05-19   \n",
      "\n",
      "      exact_time  \n",
      "0       18:30:36  \n",
      "1       18:02:56  \n",
      "2       17:44:25  \n",
      "3       17:11:24  \n",
      "4       16:06:51  \n",
      "...          ...  \n",
      "17680   07:36:28  \n",
      "17681   21:33:12  \n",
      "17682   19:56:02  \n",
      "17683   05:33:49  \n",
      "17684   09:53:02  \n",
      "\n",
      "[17685 rows x 6 columns]\n"
     ]
    }
   ],
   "source": [
    "# TF-IDF Vectorization\n",
    "vectorizer = TfidfVectorizer(stop_words='english')\n",
    "tfidf_matrix = vectorizer.fit_transform(aapl_datetime['headline'])\n",
    "\n",
    "# Use a dictionary to track headlines to remove\n",
    "to_remove = set()\n",
    "\n",
    "# Compare within ±3-day windows\n",
    "for i in range(len(aapl_datetime)):\n",
    "    if i in to_remove:\n",
    "        continue\n",
    "    current_date = aapl_datetime.loc[i, 'date']\n",
    "\n",
    "    # Get indices of nearby dates (±3 days)\n",
    "    nearby_indices = aapl_datetime[(aapl_datetime['date'] >= current_date - pd.Timedelta(days=3)) & \n",
    "                        (aapl_datetime['date'] <= current_date + pd.Timedelta(days=3))].index\n",
    "\n",
    "    for j in nearby_indices:\n",
    "        if i != j and j not in to_remove:\n",
    "            similarity_score = cosine_similarity(tfidf_matrix[i], tfidf_matrix[j])[0][0]\n",
    "            if similarity_score > 0.7:\n",
    "                to_remove.add(j)\n",
    "\n",
    "# Remove duplicates\n",
    "aapl_datetime_cleaned = aapl_datetime.drop(list(to_remove)).reset_index(drop=True)\n",
    "\n",
    "print(aapl_datetime_cleaned)"
   ]
  },
  {
   "cell_type": "code",
   "execution_count": 25,
   "id": "77da1c00-bab1-407c-8798-46fb8710b727",
   "metadata": {},
   "outputs": [],
   "source": [
    "aapl_datetime_cleaned.to_csv('aapl_datetime_TF_IDF.csv', index=False)"
   ]
  }
 ],
 "metadata": {
  "kernelspec": {
   "display_name": "Python (Erdos Institute)",
   "language": "python",
   "name": "erdos_spring_2025"
  },
  "language_info": {
   "codemirror_mode": {
    "name": "ipython",
    "version": 3
   },
   "file_extension": ".py",
   "mimetype": "text/x-python",
   "name": "python",
   "nbconvert_exporter": "python",
   "pygments_lexer": "ipython3",
   "version": "3.12.8"
  }
 },
 "nbformat": 4,
 "nbformat_minor": 5
}
