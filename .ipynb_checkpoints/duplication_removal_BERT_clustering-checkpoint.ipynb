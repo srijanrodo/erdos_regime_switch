{
 "cells": [
  {
   "cell_type": "code",
   "execution_count": null,
   "id": "1168ac30-89d4-4764-89b5-e592effc84db",
   "metadata": {},
   "outputs": [],
   "source": [
    "%pip install sentence-transformers"
   ]
  },
  {
   "cell_type": "code",
   "execution_count": null,
   "id": "0b3709cb-9ab1-4b07-a5b5-2c04d0cb1c0b",
   "metadata": {},
   "outputs": [],
   "source": [
    "from sentence_transformers import SentenceTransformer\n",
    "from sklearn.cluster import KMeans\n",
    "import pandas as pd"
   ]
  },
  {
   "cell_type": "code",
   "execution_count": null,
   "id": "41ce3c68-3696-497b-9d3e-7c56cc8e1e35",
   "metadata": {},
   "outputs": [],
   "source": [
    "aapl_datetime = pd.read_csv('aapl_datetime.csv')"
   ]
  },
  {
   "cell_type": "code",
   "execution_count": null,
   "id": "efee2380-05e8-47f3-a6de-887c6a7ef8b3",
   "metadata": {},
   "outputs": [],
   "source": [
    "# Use BERT embeddings to convert headlines into vector space\n",
    "model = SentenceTransformer('all-MiniLM-L6-v2')\n",
    "embeddings = model.encode(aapl_datetime['headline'])\n",
    "\n",
    "# Perform KMeans clustering on embeddings\n",
    "num_clusters = 2  # You can adjust this based on your data\n",
    "clustering_model = KMeans(n_clusters=num_clusters, random_state=42)\n",
    "clustering_model.fit(embeddings)\n",
    "\n",
    "# Assign each headline to a cluster\n",
    "aapl_datetime['cluster'] = clustering_model.labels_\n",
    "\n",
    "# Remove duplicates within each cluster (based on dates)\n",
    "aapl_datetime_BERT = aapl_datetime.drop_duplicates(subset=['cluster', 'date'], keep='first').reset_index(drop=True)\n",
    "print(aapl_datetime_BERT)"
   ]
  },
  {
   "cell_type": "code",
   "execution_count": null,
   "id": "ba3d04a3-6916-4951-8827-95323580c2cb",
   "metadata": {},
   "outputs": [],
   "source": [
    "aapl_datetime_BERT.to_csv('aapl_datetime_BERT.csv', index=False)"
   ]
  }
 ],
 "metadata": {
  "kernelspec": {
   "display_name": "Python (Erdos Institute)",
   "language": "python",
   "name": "erdos_spring_2025"
  },
  "language_info": {
   "codemirror_mode": {
    "name": "ipython",
    "version": 3
   },
   "file_extension": ".py",
   "mimetype": "text/x-python",
   "name": "python",
   "nbconvert_exporter": "python",
   "pygments_lexer": "ipython3",
   "version": "3.12.8"
  }
 },
 "nbformat": 4,
 "nbformat_minor": 5
}
