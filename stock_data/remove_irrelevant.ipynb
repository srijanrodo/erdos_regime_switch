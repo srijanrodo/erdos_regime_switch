{
 "cells": [
  {
   "cell_type": "code",
   "execution_count": 2,
   "metadata": {},
   "outputs": [],
   "source": [
    "import pandas as pd"
   ]
  },
  {
   "cell_type": "code",
   "execution_count": 3,
   "metadata": {},
   "outputs": [],
   "source": [
    "stocks=['aapl','googl','nvda','dal','xom','cvx','vz']\n"
   ]
  },
  {
   "cell_type": "code",
   "execution_count": 118,
   "metadata": {},
   "outputs": [],
   "source": [
    "l=[]\n",
    "for x in stocks:\n",
    "    prices=pd.read_csv(x+'_prices.csv')\n",
    "    news=pd.read_csv(x+'_datetime_BERT3.csv')\n",
    "    prices['date']=pd.to_datetime(prices['Date'])\n",
    "    news['date']=pd.to_datetime(news['date'])\n",
    "    for i in range(len(news)):\n",
    "        d=news.loc[i,'date']\n",
    "        if d.date().isoweekday() in set((6,7)):\n",
    "            d = d + pd.Timedelta(days=d.date().isoweekday() % 5)\n",
    "        while prices[prices['date']==d].empty:\n",
    "            d = d + pd.Timedelta(days=1)\n",
    "        news.loc[i,'open']=prices[prices['date']==d]['Open'].values[0]\n",
    "        news.loc[i,'close']=prices[prices['date']==d]['Close'].values[0]\n",
    "    l.append(news)"
   ]
  },
  {
   "cell_type": "code",
   "execution_count": null,
   "metadata": {},
   "outputs": [],
   "source": [
    "pd.concat(l)[['headline','stock','date','open','close']].to_csv('../aggregate.csv',index=False)"
   ]
  }
 ],
 "metadata": {
  "kernelspec": {
   "display_name": "erdos_spring_2025",
   "language": "python",
   "name": "python3"
  },
  "language_info": {
   "codemirror_mode": {
    "name": "ipython",
    "version": 3
   },
   "file_extension": ".py",
   "mimetype": "text/x-python",
   "name": "python",
   "nbconvert_exporter": "python",
   "pygments_lexer": "ipython3",
   "version": "3.12.8"
  }
 },
 "nbformat": 4,
 "nbformat_minor": 2
}
