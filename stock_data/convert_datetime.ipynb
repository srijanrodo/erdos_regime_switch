{
 "cells": [
  {
   "cell_type": "code",
   "execution_count": 2,
   "metadata": {},
   "outputs": [],
   "source": [
    "import pandas as pd"
   ]
  },
  {
   "cell_type": "code",
   "execution_count": 4,
   "metadata": {},
   "outputs": [],
   "source": [
    "stocks=['aapl','googl','nvda','dal','xom','cvx','vz']"
   ]
  },
  {
   "cell_type": "code",
   "execution_count": 5,
   "metadata": {},
   "outputs": [],
   "source": [
    "for x in stocks:\n",
    "    x_dt=pd.read_csv(x+'.csv')\n",
    "    x_dt['time'] = pd.to_datetime(x_dt['time'], format='%m/%d/%Y %I:%M:%S %p')\n",
    "    x_dt['date']=x_dt['time'].dt.date\n",
    "    x_dt['exact_time']=x_dt['time'].dt.time\n",
    "    x_dt=x_dt[['headline','stock','date','exact_time']]\n",
    "    x_dt.to_csv(x+'_datetime.csv',index=False)\n"
   ]
  }
 ],
 "metadata": {
  "kernelspec": {
   "display_name": "erdos_spring_2025",
   "language": "python",
   "name": "python3"
  },
  "language_info": {
   "codemirror_mode": {
    "name": "ipython",
    "version": 3
   },
   "file_extension": ".py",
   "mimetype": "text/x-python",
   "name": "python",
   "nbconvert_exporter": "python",
   "pygments_lexer": "ipython3",
   "version": "3.12.8"
  }
 },
 "nbformat": 4,
 "nbformat_minor": 2
}
