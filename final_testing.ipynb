{
 "cells": [
  {
   "cell_type": "code",
   "execution_count": 37,
   "id": "d1bc5771",
   "metadata": {},
   "outputs": [],
   "source": [
    "import pandas as pd\n",
    "import numpy as np\n",
    "import seaborn as sns\n",
    "import pickle\n",
    "import os\n",
    "from sklearn.model_selection import train_test_split, StratifiedKFold\n",
    "from sktime.forecasting.model_selection import SlidingWindowSplitter\n",
    "from sklearn.model_selection import TimeSeriesSplit\n",
    "from sklearn.linear_model import LogisticRegression\n",
    "from sklearn.ensemble import RandomForestClassifier\n",
    "from sklearn.tree import DecisionTreeClassifier\n",
    "from sklearn.ensemble import AdaBoostClassifier\n",
    "from sklearn.svm import SVC\n",
    "from sklearn.metrics import accuracy_score\n",
    "from sklearn.pipeline import make_pipeline, Pipeline\n",
    "from xgboost import XGBClassifier\n",
    "from sklearn.neighbors import KNeighborsClassifier\n",
    "import matplotlib.pyplot as plt\n",
    "from sklearn.metrics import accuracy_score, confusion_matrix, f1_score"
   ]
  },
  {
   "cell_type": "code",
   "execution_count": 38,
   "id": "74cfadc7",
   "metadata": {},
   "outputs": [],
   "source": [
    "rs=121\n",
    "stocks=['aapl','googl','nvda','dal','xom','cvx','vz']\n",
    "best_spreads=[22,6,13,21,11,7,24]"
   ]
  },
  {
   "cell_type": "code",
   "execution_count": 39,
   "id": "490adc1d",
   "metadata": {},
   "outputs": [],
   "source": [
    "init_dir_path = str(os.getcwd())\n",
    "data=pd.read_csv(init_dir_path+'/stock_hmm_output.csv',engine='python').drop(['Unnamed: 0'],axis=1)\n",
    "smooth_data=pd.read_csv(init_dir_path+'/stock_hmm_output_kalman.csv',engine='python').drop(['Unnamed: 0'],axis=1)\n",
    "features=['Return','Volatility','HighR','LowR']\n",
    "target='State'\n",
    "data[target] = smooth_data[target] "
   ]
  },
  {
   "cell_type": "code",
   "execution_count": 40,
   "id": "715f9451",
   "metadata": {},
   "outputs": [],
   "source": [
    "final_test=[]\n",
    "stocks_data=[]\n",
    "ft_size=400\n",
    "for x in data.groupby(['Ticker']):\n",
    "    final_test.append(x[1][-ft_size:])\n",
    "    stocks_data.append(x[1][:-ft_size])"
   ]
  },
  {
   "cell_type": "code",
   "execution_count": 41,
   "id": "18044551",
   "metadata": {},
   "outputs": [],
   "source": [
    "ft=[]\n",
    "for x in final_test:\n",
    "    ft.append(x[pd.to_datetime(x['Date'])<= pd.to_datetime('2024-12-31')])\n",
    "final_test=ft"
   ]
  },
  {
   "cell_type": "code",
   "execution_count": 42,
   "id": "4caa3801",
   "metadata": {},
   "outputs": [],
   "source": [
    "def create_sliding_window(train_df, features, target, window=7):\n",
    "    splitter = SlidingWindowSplitter(window_length=window, step_length=1, fh=[1])\n",
    "    train_x, train_y= [], []\n",
    "\n",
    "    for idx in splitter.split(train_df):\n",
    "        X = train_df.iloc[idx[0]][features].values.flatten()\n",
    "        y = train_df.iloc[idx[1]][target].values.flatten()[0]\n",
    "        train_x.append(X)\n",
    "        train_y.append(y)\n",
    "\n",
    "    return (train_x, train_y)"
   ]
  },
  {
   "cell_type": "code",
   "execution_count": 43,
   "id": "f46de80d",
   "metadata": {},
   "outputs": [],
   "source": [
    "testing_lists = {}\n",
    "for ticker_idx, ticker_df in enumerate(final_test):\n",
    "    ticker = list(ticker_df[\"Ticker\"])[0]\n",
    "    (test_x, test_y) = create_sliding_window(ticker_df, features, target, window=best_spreads[ticker_idx])\n",
    "    testing_lists[ticker] = [test_x,test_y] #spread->stock index->time series split->data/label"
   ]
  },
  {
   "cell_type": "code",
   "execution_count": 44,
   "id": "56457b86",
   "metadata": {},
   "outputs": [],
   "source": [
    "training_lists = {}\n",
    "for ticker_idx, ticker_df in enumerate(stocks_data):\n",
    "    ticker = list(ticker_df[\"Ticker\"])[0]\n",
    "    (train_x, train_y) = create_sliding_window(ticker_df, features, target, window=best_spreads[ticker_idx])\n",
    "    training_lists[ticker] = [train_x,train_y] #spread->stock index->time series split->data/label"
   ]
  },
  {
   "cell_type": "code",
   "execution_count": 45,
   "id": "e3ad808a",
   "metadata": {},
   "outputs": [],
   "source": [
    "with open('best_logistic.pkl','rb') as f:\n",
    "    best_logmodels=pickle.load(f)"
   ]
  },
  {
   "cell_type": "code",
   "execution_count": 46,
   "id": "827edab7",
   "metadata": {},
   "outputs": [],
   "source": [
    "best_models=[]\n",
    "for i in range(len(stocks)):\n",
    "    best_models.append(best_logmodels[best_spreads[i]][i])\n",
    "best_models[stocks.index('aapl')]=SVC(random_state=rs)\n",
    "best_models[stocks.index('vz')]=SVC(random_state=rs)"
   ]
  },
  {
   "cell_type": "code",
   "execution_count": 49,
   "id": "2f4bccc4",
   "metadata": {},
   "outputs": [],
   "source": [
    "accuracies=pd.DataFrame(index=['f1_score','accuracy_score','baseline_f1','baseline_accuracy'])\n",
    "for (i,stock) in enumerate(stocks):\n",
    "    model=best_models[i]\n",
    "    model.fit(X=training_lists[stock][0],y=training_lists[stock][1])\n",
    "    y_pred=model.predict(testing_lists[stock][0])\n",
    "    y_true=testing_lists[stock][1]\n",
    "    y_naive=[1]*len(y_true)\n",
    "    accuracies[stock]=[f1_score(y_pred,y_true,pos_label=0),accuracy_score(y_pred,y_true),f1_score(y_true,y_naive,pos_label=0),accuracy_score(y_true,y_naive)]"
   ]
  },
  {
   "cell_type": "code",
   "execution_count": 50,
   "id": "6ecf76a1",
   "metadata": {},
   "outputs": [
    {
     "data": {
      "text/html": [
       "<div>\n",
       "<style scoped>\n",
       "    .dataframe tbody tr th:only-of-type {\n",
       "        vertical-align: middle;\n",
       "    }\n",
       "\n",
       "    .dataframe tbody tr th {\n",
       "        vertical-align: top;\n",
       "    }\n",
       "\n",
       "    .dataframe thead th {\n",
       "        text-align: right;\n",
       "    }\n",
       "</style>\n",
       "<table border=\"1\" class=\"dataframe\">\n",
       "  <thead>\n",
       "    <tr style=\"text-align: right;\">\n",
       "      <th></th>\n",
       "      <th>aapl</th>\n",
       "      <th>googl</th>\n",
       "      <th>nvda</th>\n",
       "      <th>dal</th>\n",
       "      <th>xom</th>\n",
       "      <th>cvx</th>\n",
       "      <th>vz</th>\n",
       "    </tr>\n",
       "  </thead>\n",
       "  <tbody>\n",
       "    <tr>\n",
       "      <th>f1_score</th>\n",
       "      <td>0.980892</td>\n",
       "      <td>0.943396</td>\n",
       "      <td>0.852018</td>\n",
       "      <td>1.0</td>\n",
       "      <td>0.974194</td>\n",
       "      <td>0.955696</td>\n",
       "      <td>0.956667</td>\n",
       "    </tr>\n",
       "    <tr>\n",
       "      <th>accuracy_score</th>\n",
       "      <td>0.964072</td>\n",
       "      <td>0.901493</td>\n",
       "      <td>0.808696</td>\n",
       "      <td>1.0</td>\n",
       "      <td>0.951807</td>\n",
       "      <td>0.920000</td>\n",
       "      <td>0.925501</td>\n",
       "    </tr>\n",
       "    <tr>\n",
       "      <th>baseline_f1</th>\n",
       "      <td>0.000000</td>\n",
       "      <td>0.000000</td>\n",
       "      <td>0.000000</td>\n",
       "      <td>0.0</td>\n",
       "      <td>0.000000</td>\n",
       "      <td>0.000000</td>\n",
       "      <td>0.000000</td>\n",
       "    </tr>\n",
       "    <tr>\n",
       "      <th>baseline_accuracy</th>\n",
       "      <td>0.050898</td>\n",
       "      <td>0.107463</td>\n",
       "      <td>0.295652</td>\n",
       "      <td>0.0</td>\n",
       "      <td>0.063253</td>\n",
       "      <td>0.134286</td>\n",
       "      <td>0.146132</td>\n",
       "    </tr>\n",
       "  </tbody>\n",
       "</table>\n",
       "</div>"
      ],
      "text/plain": [
       "                       aapl     googl      nvda  dal       xom       cvx  \\\n",
       "f1_score           0.980892  0.943396  0.852018  1.0  0.974194  0.955696   \n",
       "accuracy_score     0.964072  0.901493  0.808696  1.0  0.951807  0.920000   \n",
       "baseline_f1        0.000000  0.000000  0.000000  0.0  0.000000  0.000000   \n",
       "baseline_accuracy  0.050898  0.107463  0.295652  0.0  0.063253  0.134286   \n",
       "\n",
       "                         vz  \n",
       "f1_score           0.956667  \n",
       "accuracy_score     0.925501  \n",
       "baseline_f1        0.000000  \n",
       "baseline_accuracy  0.146132  "
      ]
     },
     "execution_count": 50,
     "metadata": {},
     "output_type": "execute_result"
    }
   ],
   "source": [
    "accuracies"
   ]
  }
 ],
 "metadata": {
  "kernelspec": {
   "display_name": "erdos_spring_2025",
   "language": "python",
   "name": "python3"
  },
  "language_info": {
   "codemirror_mode": {
    "name": "ipython",
    "version": 3
   },
   "file_extension": ".py",
   "mimetype": "text/x-python",
   "name": "python",
   "nbconvert_exporter": "python",
   "pygments_lexer": "ipython3",
   "version": "3.12.9"
  }
 },
 "nbformat": 4,
 "nbformat_minor": 5
}
