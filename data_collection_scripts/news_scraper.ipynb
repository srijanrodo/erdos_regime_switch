{
 "cells": [
  {
   "cell_type": "code",
   "execution_count": 1,
   "metadata": {},
   "outputs": [],
   "source": [
    "import requests\n",
    "from bs4 import BeautifulSoup\n",
    "import pandas as pd\n",
    "import time\n",
    "import csv\n",
    "import os"
   ]
  },
  {
   "cell_type": "code",
   "execution_count": 2,
   "metadata": {},
   "outputs": [],
   "source": [
    "stocks=['aapl','googl','nvda','xom','cvx','dal','vz']\n"
   ]
  },
  {
   "cell_type": "code",
   "execution_count": null,
   "metadata": {},
   "outputs": [],
   "source": [
    "for x in stocks:\n",
    "    i=1\n",
    "    headlines=pd.DataFrame(columns=['time','headline','stock'])\n",
    "    while True:\n",
    "        time.sleep(1)\n",
    "        b=requests.get(\"https://markets.businessinsider.com/news/\"+x+\"-stock?p=\"+str(i))\n",
    "        bs=BeautifulSoup(b.text)\n",
    "        if bs.text.find(\"No news found\") >= 0:\n",
    "            break\n",
    "        l=bs.find_all('div',class_=\"latest-news__story\")\n",
    "        for y in l:\n",
    "            headlines.loc[len(headlines)]=[y.time['datetime'] ,y.find('a',class_=\"news-link\").text,x]\n",
    "        i=i+1\n",
    "    headlines.to_csv(x+\".csv\")\n"
   ]
  },
  {
   "cell_type": "code",
   "execution_count": 3,
   "metadata": {},
   "outputs": [],
   "source": [
    "for x in stocks:\n",
    "    s=requests.get(\"https://stooq.com/q/d/l/?s=\"+x+\".us&f=20020101&t=20250307&i=d\").text\n",
    "    a=[x.split(',') for x in s.splitlines()]\n",
    "    with open(os.getcwd()+'/'+x+'_prices.csv','w') as out_file:\n",
    "        writer=csv.writer(out_file)\n",
    "        writer.writerows(a)"
   ]
  }
 ],
 "metadata": {
  "kernelspec": {
   "display_name": "erdos_spring_2025",
   "language": "python",
   "name": "python3"
  },
  "language_info": {
   "codemirror_mode": {
    "name": "ipython",
    "version": 3
   },
   "file_extension": ".py",
   "mimetype": "text/x-python",
   "name": "python",
   "nbconvert_exporter": "python",
   "pygments_lexer": "ipython3",
   "version": "3.12.8"
  }
 },
 "nbformat": 4,
 "nbformat_minor": 4
}
