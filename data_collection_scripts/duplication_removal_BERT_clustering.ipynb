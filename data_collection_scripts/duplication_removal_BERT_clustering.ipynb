{
 "cells": [
  {
   "cell_type": "code",
   "execution_count": 16,
   "id": "0b3709cb-9ab1-4b07-a5b5-2c04d0cb1c0b",
   "metadata": {},
   "outputs": [],
   "source": [
    "from sentence_transformers import SentenceTransformer\n",
    "from sklearn.cluster import KMeans\n",
    "import pandas as pd\n",
    "import matplotlib.pyplot as plt"
   ]
  },
  {
   "cell_type": "code",
   "execution_count": 54,
   "id": "41ce3c68-3696-497b-9d3e-7c56cc8e1e35",
   "metadata": {},
   "outputs": [],
   "source": [
    "stocks=['aapl','googl','nvda','dal','xom','cvx','vz']\n",
    "keywords={'aapl':'apple|aapl|tech|iphone','googl':'google|alphabet|tech|googl','nvda':'nvidia|nvda|gpu','dal':'delta|airline|travel|flight|dal','xom':'exxon|energy|oil|gas|xom','cvx':'chevron|energy|oil|gas|cvx','vz':'verizon|network|internet|broadband|telecom|vz'}"
   ]
  },
  {
   "cell_type": "code",
   "execution_count": 9,
   "id": "efee2380-05e8-47f3-a6de-887c6a7ef8b3",
   "metadata": {},
   "outputs": [
    {
     "name": "stdout",
     "output_type": "stream",
     "text": [
      "                                               headline stock       date  \\\n",
      "0     AI Daily: Analyst sees Apple, Alibaba partners...  aapl 2025-03-03   \n",
      "1     Is a $100B TSMC U.S. Manufacturing Investment ...  aapl 2025-03-03   \n",
      "2     Nvidia (NVDA) Stock Rebounds from Post-Earning...  aapl 2025-02-28   \n",
      "3     Dell reports mixed Q4 results, Intel delays Oh...  aapl 2025-02-28   \n",
      "4     Five-Star Rated Analyst Pounds the Table on Ap...  aapl 2025-02-27   \n",
      "...                                                 ...   ...        ...   \n",
      "5024          Apple recalls some Verizon iPad 2 tablets  aapl 2011-06-11   \n",
      "5025    Wall Street extends losses as banks, Apple drag  aapl 2011-06-06   \n",
      "5026    Apple readies latest version of the halo effect  aapl 2011-06-05   \n",
      "5027  Apple probes blast at Chinese plant linked to ...  aapl 2011-05-21   \n",
      "5028  Google, Apple not unassailable in smartphone race  aapl 2011-05-19   \n",
      "\n",
      "     exact_time  cluster  \n",
      "0      18:30:36        1  \n",
      "1      17:44:25        0  \n",
      "2      17:23:32        0  \n",
      "3      17:00:29        1  \n",
      "4      20:58:56        1  \n",
      "...         ...      ...  \n",
      "5024   07:36:28        1  \n",
      "5025   21:33:12        1  \n",
      "5026   19:56:02        1  \n",
      "5027   05:33:49        1  \n",
      "5028   09:53:02        1  \n",
      "\n",
      "[5029 rows x 5 columns]\n"
     ]
    }
   ],
   "source": [
    "# Use BERT embeddings to convert headlines into vector space\n",
    "aapl_datetime = pd.read_csv('aapl_datetime.csv')\n",
    "aapl_datetime['date']=pd.to_datetime(aapl_datetime['date'])\n",
    "model = SentenceTransformer('all-MiniLM-L6-v2')\n",
    "embeddings = model.encode(aapl_datetime['headline'])\n",
    "\n",
    "# Perform KMeans clustering on embeddings\n",
    "num_clusters = 2  # You can adjust this based on your data\n",
    "clustering_model = KMeans(n_clusters=num_clusters, random_state=42)\n",
    "clustering_model.fit(embeddings)\n",
    "\n",
    "# Assign each headline to a cluster\n",
    "aapl_datetime['cluster'] = clustering_model.labels_\n",
    "\n",
    "# Remove duplicates within each cluster (based on dates)\n",
    "aapl_datetime_BERT = aapl_datetime.drop_duplicates(subset=['cluster', 'date'], keep='first').reset_index(drop=True)\n",
    "print(aapl_datetime_BERT)"
   ]
  },
  {
   "cell_type": "code",
   "execution_count": 4,
   "id": "ba3d04a3-6916-4951-8827-95323580c2cb",
   "metadata": {},
   "outputs": [],
   "source": [
    "aapl_datetime_BERT.to_csv('aapl_datetime_BERT.csv', index=False)"
   ]
  },
  {
   "cell_type": "code",
   "execution_count": 55,
   "id": "22a09451",
   "metadata": {},
   "outputs": [],
   "source": [
    "l={}\n",
    "for x in stocks:\n",
    "    x_datetime = pd.read_csv(x+'_datetime.csv')\n",
    "    x_datetime['date']=pd.to_datetime(x_datetime['date'])\n",
    "    model = SentenceTransformer('all-MiniLM-L6-v2')\n",
    "    embeddings = model.encode(x_datetime['headline'])\n",
    "    a=model.similarity(embeddings,embeddings)\n",
    "    to_remove = set()\n",
    "    # Compare within ±5-day windows\n",
    "    for i in range(len(x_datetime)):\n",
    "        if i in to_remove:\n",
    "            continue\n",
    "        current_date = x_datetime.loc[i, 'date']\n",
    "\n",
    "        # Get indices of nearby dates (±5 days)\n",
    "        nearby_indices = x_datetime[(x_datetime['date'] >= current_date - pd.Timedelta(days=5)) & \n",
    "                            (x_datetime['date'] <= current_date + pd.Timedelta(days=5))].index\n",
    "\n",
    "        for j in nearby_indices:\n",
    "            if i != j and j not in to_remove:\n",
    "                similarity_score = a[i,j]\n",
    "                if similarity_score > 0.6:\n",
    "                    to_remove.add(j)\n",
    "    # Remove duplicates\n",
    "    x_datetime_cleaned = x_datetime.drop(list(to_remove)).reset_index(drop=True)\n",
    "    x_datetime_cleaned=x_datetime_cleaned[['headline','stock','date','exact_time']]\n",
    "    x_datetime_cleaned=x_datetime_cleaned[x_datetime_cleaned['headline'].str.contains(keywords[x],case=False,regex=True)]\n",
    "    x_datetime_cleaned['headline']=x_datetime_cleaned['headline'].str.replace(';',' ').str.replace(',',' ')\n",
    "    x_datetime_cleaned.to_csv(x+'_datetime_BERT3.csv',index=False)\n",
    "    l[x]=len(x_datetime_cleaned)"
   ]
  },
  {
   "cell_type": "code",
   "execution_count": 56,
   "id": "0f6475e1",
   "metadata": {},
   "outputs": [
    {
     "data": {
      "text/plain": [
       "{'aapl': 7699,\n",
       " 'googl': 3914,\n",
       " 'nvda': 2520,\n",
       " 'dal': 1632,\n",
       " 'xom': 2118,\n",
       " 'cvx': 2003,\n",
       " 'vz': 2531}"
      ]
     },
     "execution_count": 56,
     "metadata": {},
     "output_type": "execute_result"
    }
   ],
   "source": [
    "l"
   ]
  },
  {
   "cell_type": "code",
   "execution_count": 18,
   "id": "f0b03c9c",
   "metadata": {},
   "outputs": [],
   "source": [
    "lx=[]\n",
    "ly=[]\n",
    "for i in range(len(aapl_datetime)-1):\n",
    "    lx.append(i)\n",
    "    ly.append(a[i,i+1])"
   ]
  }
 ],
 "metadata": {
  "kernelspec": {
   "display_name": "erdos_spring_2025",
   "language": "python",
   "name": "python3"
  },
  "language_info": {
   "codemirror_mode": {
    "name": "ipython",
    "version": 3
   },
   "file_extension": ".py",
   "mimetype": "text/x-python",
   "name": "python",
   "nbconvert_exporter": "python",
   "pygments_lexer": "ipython3",
   "version": "3.12.8"
  }
 },
 "nbformat": 4,
 "nbformat_minor": 5
}
