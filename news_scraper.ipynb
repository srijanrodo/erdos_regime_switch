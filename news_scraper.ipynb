{
 "cells": [
  {
   "cell_type": "code",
   "execution_count": 85,
   "metadata": {},
   "outputs": [],
   "source": [
    "import requests\n",
    "from bs4 import BeautifulSoup\n",
    "import pandas as pd\n",
    "import time"
   ]
  },
  {
   "cell_type": "code",
   "execution_count": null,
   "metadata": {},
   "outputs": [],
   "source": [
    "stocks=['aapl']\n",
    "for x in stocks:\n",
    "    i=1\n",
    "    headlines=pd.DataFrame(columns=['time','headline','stock'])\n",
    "    while True:\n",
    "        time.sleep(1)\n",
    "        b=requests.get(\"https://markets.businessinsider.com/news/\"+x+\"-stock?p=\"+str(i))\n",
    "        bs=BeautifulSoup(b.text)\n",
    "        if bs.text.find(\"No news found\") >= 0:\n",
    "            break\n",
    "        l=bs.find_all('div',class_=\"latest-news__story\")\n",
    "        for y in l:\n",
    "            headlines.loc[len(headlines)]=[y.time['datetime'] ,y.find('a',class_=\"news-link\").text,x]\n",
    "        i=i+1\n"
   ]
  },
  {
   "cell_type": "code",
   "execution_count": 104,
   "metadata": {},
   "outputs": [],
   "source": [
    "headlines.to_csv(\"aapl.csv\")"
   ]
  }
 ],
 "metadata": {
  "kernelspec": {
   "display_name": "erdos_spring_2025",
   "language": "python",
   "name": "python3"
  },
  "language_info": {
   "codemirror_mode": {
    "name": "ipython",
    "version": 3
   },
   "file_extension": ".py",
   "mimetype": "text/x-python",
   "name": "python",
   "nbconvert_exporter": "python",
   "pygments_lexer": "ipython3",
   "version": "3.12.8"
  }
 },
 "nbformat": 4,
 "nbformat_minor": 2
}
