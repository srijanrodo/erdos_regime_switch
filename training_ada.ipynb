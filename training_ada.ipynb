{
 "cells": [
  {
   "cell_type": "code",
   "execution_count": 9,
   "id": "2fcc859e",
   "metadata": {},
   "outputs": [],
   "source": [
    "import pandas as pd\n",
    "import numpy as np\n",
    "import seaborn as sns\n",
    "import pickle\n",
    "import os\n",
    "from sklearn.model_selection import train_test_split, GridSearchCV\n",
    "from sktime.forecasting.model_selection import SlidingWindowSplitter\n",
    "from sklearn.model_selection import TimeSeriesSplit\n",
    "from sklearn.tree import DecisionTreeClassifier\n",
    "from sklearn.ensemble import AdaBoostClassifier\n",
    "from sklearn.metrics import accuracy_score\n",
    "import matplotlib.pyplot as plt"
   ]
  },
  {
   "cell_type": "code",
   "execution_count": 10,
   "id": "22164682",
   "metadata": {},
   "outputs": [],
   "source": [
    "rs=121\n",
    "ns=5\n",
    "stocks=['aapl','googl','nvda','dal','xom','cvx','vz']"
   ]
  },
  {
   "cell_type": "code",
   "execution_count": 11,
   "id": "8e88c60a",
   "metadata": {},
   "outputs": [],
   "source": [
    "init_dir_path = str(os.getcwd())\n",
    "data=pd.read_csv(init_dir_path+'/stock_hmm_output.csv',engine='python').drop(['Unnamed: 0'],axis=1)\n",
    "features=['Return','Volatility','HighR','LowR']\n",
    "target='State'"
   ]
  },
  {
   "cell_type": "code",
   "execution_count": 12,
   "id": "ef653f97",
   "metadata": {},
   "outputs": [],
   "source": [
    "#With TimeSeries\n",
    "#First Set Aside Testing data\n",
    "final_test=[]\n",
    "l=[]\n",
    "ft_size=400\n",
    "for x in data.groupby(['Ticker']):\n",
    "    final_test.append(x[1][-ft_size:])\n",
    "    l.append(x[1][:-ft_size])"
   ]
  },
  {
   "cell_type": "code",
   "execution_count": 14,
   "id": "f84ffed3",
   "metadata": {},
   "outputs": [],
   "source": [
    "def createSlidingWindow(tr,te,f,t, window=7):\n",
    "    splitting=SlidingWindowSplitter(window_length=window,step_length=1,fh=[1])\n",
    "    train_x=[]\n",
    "    train_y=[]\n",
    "    test_x=[]\n",
    "    test_y=[]\n",
    "    \n",
    "    for i in splitting.split(tr):\n",
    "        train_x.append(tr.iloc[i[0]][f].values.flatten())\n",
    "        train_y.append(tr.iloc[i[1]][t].values.flatten()[0])\n",
    "    \n",
    "    for i in splitting.split(te):\n",
    "        test_x.append(te.iloc[i[0]][f].values.flatten())\n",
    "        test_y.append(te.iloc[i[1]][t].values.flatten()[0])\n",
    "    return ((train_x,train_y),(test_x,test_y))"
   ]
  },
  {
   "cell_type": "code",
   "execution_count": 15,
   "id": "e167b2cd",
   "metadata": {},
   "outputs": [],
   "source": [
    "testing_size=500\n",
    "\n",
    "tss=TimeSeriesSplit(n_splits=ns,test_size=testing_size)\n",
    "training_list=[]\n",
    "testing_list=[]\n",
    "for i in range(ns):\n",
    "    training_list.append([[],[]])\n",
    "    testing_list.append([[],[]])\n",
    "training_lists = {}\n",
    "testing_lists = {}\n",
    "for spread in range(7,21):\n",
    "    for x in l:\n",
    "        for (i,t) in enumerate(tss.split(x)):\n",
    "            ((train_x,train_y),(test_x,test_y))=createSlidingWindow(x.iloc[t[0]],x.iloc[t[1]],features,target, window = spread)\n",
    "            training_list[i][0] += train_x\n",
    "            training_list[i][1] += train_y\n",
    "            testing_list[i][0] += test_x\n",
    "            testing_list[i][1] += test_y\n",
    "    training_lists[spread] = training_list\n",
    "    testing_lists[spread] = testing_list\n",
    "    training_list=[]\n",
    "    testing_list=[]\n",
    "    for i in range(ns):\n",
    "        training_list.append([[],[]])\n",
    "        testing_list.append([[],[]])"
   ]
  },
  {
   "cell_type": "code",
   "execution_count": 16,
   "id": "ad629ee2",
   "metadata": {},
   "outputs": [],
   "source": [
    "with open('saved_training_lists.pkl', 'wb') as f:\n",
    "    pickle.dump(training_lists, f)\n",
    "\n",
    "with open('saved_testing_lists.pkl', 'wb') as f:\n",
    "    pickle.dump(testing_lists, f)\n"
   ]
  },
  {
   "cell_type": "code",
   "execution_count": 6,
   "id": "9414d073",
   "metadata": {},
   "outputs": [],
   "source": [
    "with open('saved_training_lists.pkl', 'rb') as f:\n",
    "    training_lists = pickle.load(f)\n",
    "\n",
    "with open('saved_testing_lists.pkl', 'rb') as f:\n",
    "    testing_lists = pickle.load(f)"
   ]
  },
  {
   "cell_type": "code",
   "execution_count": 7,
   "id": "75a7369e",
   "metadata": {},
   "outputs": [],
   "source": [
    "def accuracies_model(model):\n",
    "    accuracies = {}\n",
    "    for window in training_lists.keys():\n",
    "        training_list = training_lists[window]\n",
    "        testing_list = testing_lists[window]\n",
    "        a=0 \n",
    "        for i in range(ns):\n",
    "            model.fit(X=training_list[i][0],y=training_list[i][1])\n",
    "            a+= accuracy_score(model.predict(testing_list[i][0]),testing_list[i][1])\n",
    "        a=a/ns\n",
    "        accuracies[window] = a\n",
    "    return accuracies"
   ]
  },
  {
   "cell_type": "code",
   "execution_count": 17,
   "id": "2aa9280d",
   "metadata": {},
   "outputs": [],
   "source": [
    "model_names=['ada','decisiontree']\n",
    "training_list  = training_lists[13]\n",
    "testing_list = testing_lists[13]\n",
    "accuracies=[]\n",
    "models=[AdaBoostClassifier(n_estimators=200,random_state=121),DecisionTreeClassifier(random_state=rs)]\n",
    "#Add Possible AdaBoostModels:\n",
    "for m in models:\n",
    "    a=0\n",
    "    for i in range(ns):\n",
    "        m.fit(X=training_list[i][0],y=training_list[i][1])\n",
    "        a+= accuracy_score(m.predict(testing_list[i][0]),testing_list[i][1])\n",
    "    a=a/ns\n",
    "    accuracies.append(a)"
   ]
  },
  {
   "cell_type": "code",
   "execution_count": 18,
   "id": "a887d11b",
   "metadata": {},
   "outputs": [
    {
     "data": {
      "text/plain": [
       "[0.7651510706952186, 0.6777354062775007]"
      ]
     },
     "execution_count": 18,
     "metadata": {},
     "output_type": "execute_result"
    }
   ],
   "source": [
    "accuracies"
   ]
  },
  {
   "cell_type": "code",
   "execution_count": 19,
   "id": "ba63a651",
   "metadata": {},
   "outputs": [
    {
     "data": {
      "text/plain": [
       "dict_keys([7, 8, 9, 10, 11, 12, 13, 14, 15, 16, 17, 18, 19, 20])"
      ]
     },
     "execution_count": 19,
     "metadata": {},
     "output_type": "execute_result"
    }
   ],
   "source": [
    "training_lists.keys()"
   ]
  },
  {
   "cell_type": "code",
   "execution_count": null,
   "id": "5c016b0c",
   "metadata": {},
   "outputs": [
    {
     "ename": "NameError",
     "evalue": "name 'plot_accuracies' is not defined",
     "output_type": "error",
     "traceback": [
      "\u001b[31m---------------------------------------------------------------------------\u001b[39m",
      "\u001b[31mNameError\u001b[39m                                 Traceback (most recent call last)",
      "\u001b[36mCell\u001b[39m\u001b[36m \u001b[39m\u001b[32mIn[20]\u001b[39m\u001b[32m, line 6\u001b[39m\n\u001b[32m      4\u001b[39m \u001b[38;5;28;01mfor\u001b[39;00m ind, m \u001b[38;5;129;01min\u001b[39;00m \u001b[38;5;28menumerate\u001b[39m(models):\n\u001b[32m      5\u001b[39m     acc_model = accuracies_model(m)\n\u001b[32m----> \u001b[39m\u001b[32m6\u001b[39m     \u001b[43mplot_accuracies\u001b[49m(acc_model, model_names[ind])\n",
      "\u001b[31mNameError\u001b[39m: name 'plot_accuracies' is not defined"
     ]
    }
   ],
   "source": [
    "model_names=['ada','decisiontree']\n",
    "models=[AdaBoostClassifier(n_estimators=220,learning_rate=1,random_state=rs)]\n",
    "#Add Possible AdaBoostModels:\n",
    "for ind, m in enumerate(models):\n",
    "    acc_model = accuracies_model(m)\n",
    "    plot_accuracies(acc_model, model_names[ind])"
   ]
  },
  {
   "cell_type": "code",
   "execution_count": 21,
   "id": "f4d6cb90",
   "metadata": {},
   "outputs": [],
   "source": [
    "def plot_accuracies(accuracies, model_type):\n",
    "    plt.figure(figsize=(6, 4))\n",
    "    plt.plot(list(accuracies.keys()), list(accuracies.values()), marker='o')\n",
    "    plt.title(f\"{model_type} accuracy scores\")\n",
    "    plt.xlabel(\"Window size\")\n",
    "    plt.ylabel(\"accuracy\")\n",
    "    plt.tight_layout()\n",
    "    plt.show()"
   ]
  },
  {
   "cell_type": "code",
   "execution_count": 22,
   "id": "483de579",
   "metadata": {},
   "outputs": [
    {
     "data": {
      "image/png": "[encoded data removed]",
      "text/plain": [
       "<Figure size 600x400 with 1 Axes>"
      ]
     },
     "metadata": {},
     "output_type": "display_data"
    }
   ],
   "source": [
    "plot_accuracies(acc_model, model_names[ind])"
   ]
  },
  {
   "cell_type": "code",
   "execution_count": 19,
   "id": "3f29a112",
   "metadata": {},
   "outputs": [
    {
     "name": "stdout",
     "output_type": "stream",
     "text": [
      "AdaBoostClassifier(learning_rate=1, n_estimators=220)\n",
      "0.8191994720131739\n",
      "AdaBoostClassifier(learning_rate=1, n_estimators=200)\n",
      "0.836738932314244\n",
      "AdaBoostClassifier(learning_rate=1, n_estimators=180)\n",
      "0.8448664639503141\n",
      "AdaBoostClassifier(learning_rate=1, n_estimators=220)\n",
      "0.850352636201106\n",
      "AdaBoostClassifier(learning_rate=1, n_estimators=220)\n",
      "0.8507606993751269\n"
     ]
    }
   ],
   "source": [
    "#13 seems best from above\n",
    "window=13\n",
    "model=AdaBoostClassifier()\n",
    "\n",
    "parameters = {\n",
    "    'n_estimators' : [ 180, 200,220],\n",
    "    'learning_rate' : [1,10]\n",
    "}\n",
    "grid_search = GridSearchCV(model, parameters, cv = 5, n_jobs=-1)\n",
    "training_list = training_lists[window]\n",
    "testing_list = testing_lists[window]\n",
    "a=[] \n",
    "for i in range(ns):\n",
    "    grid_search.fit(X=training_list[i][0],y=training_list[i][1])\n",
    "    print(grid_search.best_estimator_)\n",
    "    print(grid_search.best_score_)\n",
    "    a.append(grid_search.cv_results_)\n",
    "\n",
    "    #a+= accuracy_score(model.predict(testing_list[i][0]),testing_list[i][1])\n",
    "#a=a/ns"
   ]
  },
  {
   "cell_type": "code",
   "execution_count": 27,
   "id": "1d005883",
   "metadata": {},
   "outputs": [],
   "source": [
    "testing_size=500\n",
    "\n",
    "tss=TimeSeriesSplit(n_splits=ns,test_size=testing_size)\n",
    "training_list=[]\n",
    "testing_list=[]\n",
    "for j in range(len(l)):\n",
    "    ttl=[]\n",
    "    tstl=[]\n",
    "    for i in range(ns):\n",
    "        ttl.append([[],[]])\n",
    "        tstl.append([[],[]])\n",
    "    training_list.append(ttl)\n",
    "    testing_list.append(tstl)\n",
    "spread = 13\n",
    "for (j,x) in enumerate(l):\n",
    "    for (i,t) in enumerate(tss.split(x)):\n",
    "        ((train_x,train_y),(test_x,test_y))=createSlidingWindow(x.iloc[t[0]],x.iloc[t[1]],features,target, window = spread)\n",
    "        training_list[j][i][0] += train_x\n",
    "        training_list[j][i][1] += train_y\n",
    "        testing_list[j][i][0] += test_x\n",
    "        testing_list[j][i][1] += test_y\n"
   ]
  },
  {
   "cell_type": "code",
   "execution_count": 35,
   "id": "d58e1a65",
   "metadata": {},
   "outputs": [],
   "source": [
    "stock_accuracies={}\n",
    "model=AdaBoostClassifier(n_estimators=220,learning_rate=1,random_state=rs)\n",
    "for (j,x) in enumerate(l):\n",
    "    a=0\n",
    "    for i in range(ns):\n",
    "        model.fit(X=training_list[j][i][0],y=training_list[j][i][1])\n",
    "        a+=accuracy_score(model.predict(testing_list[j][i][0]),testing_list[j][i][1])\n",
    "    stock_accuracies[x['Ticker'].iloc[0]]=a/ns"
   ]
  },
  {
   "cell_type": "code",
   "execution_count": 36,
   "id": "4cd3d3e2",
   "metadata": {},
   "outputs": [
    {
     "data": {
      "text/plain": [
       "{'aapl': 0.8710472279260781,\n",
       " 'cvx': 0.857905544147844,\n",
       " 'dal': 0.942094455852156,\n",
       " 'googl': 0.686652977412731,\n",
       " 'nvda': 0.6271047227926078,\n",
       " 'vz': 0.8788501026694047,\n",
       " 'xom': 0.8574948665297741}"
      ]
     },
     "execution_count": 36,
     "metadata": {},
     "output_type": "execute_result"
    }
   ],
   "source": [
    "stock_accuracies"
   ]
  }
 ],
 "metadata": {
  "kernelspec": {
   "display_name": "erdos_spring_2025",
   "language": "python",
   "name": "python3"
  },
  "language_info": {
   "codemirror_mode": {
    "name": "ipython",
    "version": 3
   },
   "file_extension": ".py",
   "mimetype": "text/x-python",
   "name": "python",
   "nbconvert_exporter": "python",
   "pygments_lexer": "ipython3",
   "version": "3.12.9"
  }
 },
 "nbformat": 4,
 "nbformat_minor": 5
}
