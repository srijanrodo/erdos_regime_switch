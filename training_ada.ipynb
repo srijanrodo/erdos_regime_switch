{
 "cells": [
  {
   "cell_type": "code",
   "execution_count": 12,
   "id": "2fcc859e",
   "metadata": {},
   "outputs": [],
   "source": [
    "import pandas as pd\n",
    "import numpy as np\n",
    "import seaborn as sns\n",
    "import pickle\n",
    "import os\n",
    "from sklearn.model_selection import train_test_split, GridSearchCV\n",
    "from sktime.forecasting.model_selection import SlidingWindowSplitter\n",
    "from sklearn.model_selection import TimeSeriesSplit\n",
    "from sklearn.tree import DecisionTreeClassifier\n",
    "from sklearn.ensemble import AdaBoostClassifier\n",
    "from sklearn.metrics import accuracy_score\n",
    "import matplotlib.pyplot as plt"
   ]
  },
  {
   "cell_type": "code",
   "execution_count": 5,
   "id": "22164682",
   "metadata": {},
   "outputs": [],
   "source": [
    "rs=121\n",
    "ns=5\n",
    "stocks=['aapl','googl','nvda','dal','xom','cvx','vz']"
   ]
  },
  {
   "cell_type": "code",
   "execution_count": 3,
   "id": "8e88c60a",
   "metadata": {},
   "outputs": [],
   "source": [
    "init_dir_path = str(os.getcwd())\n",
    "data=pd.read_csv(init_dir_path+'/stock_hmm_output.csv',engine='python').drop(['Unnamed: 0'],axis=1)\n",
    "features=['Return','Volatility','HighR','LowR']\n",
    "target='State'"
   ]
  },
  {
   "cell_type": "code",
   "execution_count": 4,
   "id": "ef653f97",
   "metadata": {},
   "outputs": [],
   "source": [
    "#With TimeSeries\n",
    "#First Set Aside Testing data\n",
    "final_test=[]\n",
    "l=[]\n",
    "ft_size=400\n",
    "for x in data.groupby(['Ticker']):\n",
    "    final_test.append(x[1][-ft_size:])\n",
    "    l.append(x[1][:-ft_size])"
   ]
  },
  {
   "cell_type": "code",
   "execution_count": null,
   "id": "e167b2cd",
   "metadata": {},
   "outputs": [],
   "source": [
    "testing_size=500\n",
    "\n",
    "tss=TimeSeriesSplit(n_splits=ns,test_size=testing_size)\n",
    "training_list=[]\n",
    "testing_list=[]\n",
    "for i in range(ns):\n",
    "    training_list.append([[],[]])\n",
    "    testing_list.append([[],[]])\n",
    "training_lists = {}\n",
    "testing_lists = {}\n",
    "for spread in range(2,25):\n",
    "    for x in l:\n",
    "        for (i,t) in enumerate(tss.split(x)):\n",
    "            ((train_x,train_y),(test_x,test_y))=createSlidingWindow(x.iloc[t[0]],x.iloc[t[1]],features,target, window = spread)\n",
    "            training_list[i][0] += train_x\n",
    "            training_list[i][1] += train_y\n",
    "            testing_list[i][0] += test_x\n",
    "            testing_list[i][1] += test_y\n",
    "    training_lists[spread] = training_list\n",
    "    testing_lists[spread] = testing_list\n",
    "    training_list=[]\n",
    "    testing_list=[]\n",
    "    for i in range(ns):\n",
    "        training_list.append([[],[]])\n",
    "        testing_list.append([[],[]])"
   ]
  },
  {
   "cell_type": "code",
   "execution_count": 6,
   "id": "9414d073",
   "metadata": {},
   "outputs": [],
   "source": [
    "with open('saved_training_lists.pkl', 'rb') as f:\n",
    "    training_lists = pickle.load(f)\n",
    "\n",
    "with open('saved_testing_lists.pkl', 'rb') as f:\n",
    "    testing_lists = pickle.load(f)"
   ]
  },
  {
   "cell_type": "code",
   "execution_count": 7,
   "id": "75a7369e",
   "metadata": {},
   "outputs": [],
   "source": [
    "def accuracies_model(model):\n",
    "    accuracies = {}\n",
    "    for window in training_lists.keys():\n",
    "        training_list = training_lists[window]\n",
    "        testing_list = testing_lists[window]\n",
    "        a=0 \n",
    "        for i in range(ns):\n",
    "            model.fit(X=training_list[i][0],y=training_list[i][1])\n",
    "            a+= accuracy_score(model.predict(testing_list[i][0]),testing_list[i][1])\n",
    "        a=a/ns\n",
    "        accuracies[window] = a\n",
    "    return accuracies"
   ]
  },
  {
   "cell_type": "code",
   "execution_count": 16,
   "id": "2aa9280d",
   "metadata": {},
   "outputs": [],
   "source": [
    "model_names=['ada','decisiontree']\n",
    "training_list  = training_lists[13]\n",
    "testing_list = testing_lists[13]\n",
    "accuracies=[]\n",
    "models=[AdaBoostClassifier(n_estimators=200,random_state=121),DecisionTreeClassifier(random_state=rs)]\n",
    "#Add Possible AdaBoostModels:\n",
    "for m in models:\n",
    "    a=0\n",
    "    for i in range(ns):\n",
    "        m.fit(X=training_list[i][0],y=training_list[i][1])\n",
    "        a+= accuracy_score(m.predict(testing_list[i][0]),testing_list[i][1])\n",
    "    a=a/ns\n",
    "    accuracies.append(a)"
   ]
  },
  {
   "cell_type": "code",
   "execution_count": 17,
   "id": "a887d11b",
   "metadata": {},
   "outputs": [
    {
     "data": {
      "text/plain": [
       "[0.873452625403344, 0.8026400704018772]"
      ]
     },
     "execution_count": 17,
     "metadata": {},
     "output_type": "execute_result"
    }
   ],
   "source": [
    "accuracies"
   ]
  },
  {
   "cell_type": "code",
   "execution_count": 11,
   "id": "ba63a651",
   "metadata": {},
   "outputs": [
    {
     "data": {
      "text/plain": [
       "dict_keys([2, 3, 4, 5, 6, 7, 8, 9, 10, 11, 12, 13, 14, 15, 16, 17, 18, 19, 20, 21, 22, 23, 24])"
      ]
     },
     "execution_count": 11,
     "metadata": {},
     "output_type": "execute_result"
    }
   ],
   "source": [
    "training_lists.keys()"
   ]
  },
  {
   "cell_type": "code",
   "execution_count": null,
   "id": "5c016b0c",
   "metadata": {},
   "outputs": [],
   "source": [
    "model_names=['ada','decisiontree']\n",
    "models=[AdaBoostClassifier(n_estimators=220,learning_rate=1,random_state=rs),DecisionTreeClassifier(random_state=rs)]\n",
    "#Add Possible AdaBoostModels:\n",
    "for ind, m in enumerate(models):\n",
    "    acc_model = accuracies_model(m)\n",
    "    plot_accuracies(acc_model, model_names[ind])"
   ]
  },
  {
   "cell_type": "code",
   "execution_count": 19,
   "id": "3f29a112",
   "metadata": {},
   "outputs": [
    {
     "name": "stdout",
     "output_type": "stream",
     "text": [
      "AdaBoostClassifier(learning_rate=1, n_estimators=220)\n",
      "0.8191994720131739\n",
      "AdaBoostClassifier(learning_rate=1, n_estimators=200)\n",
      "0.836738932314244\n",
      "AdaBoostClassifier(learning_rate=1, n_estimators=180)\n",
      "0.8448664639503141\n",
      "AdaBoostClassifier(learning_rate=1, n_estimators=220)\n",
      "0.850352636201106\n",
      "AdaBoostClassifier(learning_rate=1, n_estimators=220)\n",
      "0.8507606993751269\n"
     ]
    }
   ],
   "source": [
    "#13 seems best from above\n",
    "window=13\n",
    "model=AdaBoostClassifier()\n",
    "\n",
    "parameters = {\n",
    "    'n_estimators' : [ 180, 200,220],\n",
    "    'learning_rate' : [1,10]\n",
    "}\n",
    "grid_search = GridSearchCV(model, parameters, cv = 5, n_jobs=-1)\n",
    "training_list = training_lists[window]\n",
    "testing_list = testing_lists[window]\n",
    "a=[] \n",
    "for i in range(ns):\n",
    "    grid_search.fit(X=training_list[i][0],y=training_list[i][1])\n",
    "    print(grid_search.best_estimator_)\n",
    "    print(grid_search.best_score_)\n",
    "    a.append(grid_search.cv_results_)\n",
    "\n",
    "    #a+= accuracy_score(model.predict(testing_list[i][0]),testing_list[i][1])\n",
    "#a=a/ns"
   ]
  }
 ],
 "metadata": {
  "kernelspec": {
   "display_name": "erdos_spring_2025",
   "language": "python",
   "name": "python3"
  },
  "language_info": {
   "codemirror_mode": {
    "name": "ipython",
    "version": 3
   },
   "file_extension": ".py",
   "mimetype": "text/x-python",
   "name": "python",
   "nbconvert_exporter": "python",
   "pygments_lexer": "ipython3",
   "version": "3.12.9"
  }
 },
 "nbformat": 4,
 "nbformat_minor": 5
}
