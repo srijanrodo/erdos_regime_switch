{
 "cells": [
  {
   "cell_type": "code",
   "execution_count": 2,
   "id": "2fcc859e",
   "metadata": {},
   "outputs": [],
   "source": [
    "import pandas as pd\n",
    "import numpy as np\n",
    "import seaborn as sns\n",
    "import pickle\n",
    "import os\n",
    "from sklearn.model_selection import train_test_split, GridSearchCV\n",
    "from sktime.forecasting.model_selection import SlidingWindowSplitter\n",
    "from sklearn.model_selection import TimeSeriesSplit\n",
    "from sklearn.tree import DecisionTreeClassifier\n",
    "from sklearn.ensemble import AdaBoostClassifier\n",
    "from sklearn.metrics import accuracy_score\n",
    "import matplotlib.pyplot as plt"
   ]
  },
  {
   "cell_type": "code",
   "execution_count": 3,
   "id": "22164682",
   "metadata": {},
   "outputs": [],
   "source": [
    "rs=121\n",
    "ns=5\n",
    "stocks=['aapl','googl','nvda','dal','xom','cvx','vz']"
   ]
  },
  {
   "cell_type": "code",
   "execution_count": 4,
   "id": "8e88c60a",
   "metadata": {},
   "outputs": [],
   "source": [
    "init_dir_path = str(os.getcwd())\n",
    "data=pd.read_csv(init_dir_path+'/stock_hmm_output.csv',engine='python').drop(['Unnamed: 0'],axis=1)\n",
    "features=['Return','Volatility','HighR','LowR']\n",
    "target='State'"
   ]
  },
  {
   "cell_type": "code",
   "execution_count": 5,
   "id": "ef653f97",
   "metadata": {},
   "outputs": [],
   "source": [
    "#With TimeSeries\n",
    "#First Set Aside Testing data\n",
    "final_test=[]\n",
    "l=[]\n",
    "ft_size=400\n",
    "for x in data.groupby(['Ticker']):\n",
    "    final_test.append(x[1][-ft_size:])\n",
    "    l.append(x[1][:-ft_size])"
   ]
  },
  {
   "cell_type": "code",
   "execution_count": 6,
   "id": "f84ffed3",
   "metadata": {},
   "outputs": [],
   "source": [
    "def createSlidingWindow(tr,te,f,t, window=7):\n",
    "    splitting=SlidingWindowSplitter(window_length=window,step_length=1,fh=[1])\n",
    "    train_x=[]\n",
    "    train_y=[]\n",
    "    test_x=[]\n",
    "    test_y=[]\n",
    "    \n",
    "    for i in splitting.split(tr):\n",
    "        train_x.append(tr.iloc[i[0]][f].values.flatten())\n",
    "        train_y.append(tr.iloc[i[1]][t].values.flatten()[0])\n",
    "    \n",
    "    for i in splitting.split(te):\n",
    "        test_x.append(te.iloc[i[0]][f].values.flatten())\n",
    "        test_y.append(te.iloc[i[1]][t].values.flatten()[0])\n",
    "    return ((train_x,train_y),(test_x,test_y))"
   ]
  },
  {
   "cell_type": "code",
   "execution_count": 15,
   "id": "e167b2cd",
   "metadata": {},
   "outputs": [],
   "source": [
    "testing_size=500\n",
    "\n",
    "tss=TimeSeriesSplit(n_splits=ns,test_size=testing_size)\n",
    "training_list=[]\n",
    "testing_list=[]\n",
    "for i in range(ns):\n",
    "    training_list.append([[],[]])\n",
    "    testing_list.append([[],[]])\n",
    "training_lists = {}\n",
    "testing_lists = {}\n",
    "for spread in range(7,21):\n",
    "    for x in l:\n",
    "        for (i,t) in enumerate(tss.split(x)):\n",
    "            ((train_x,train_y),(test_x,test_y))=createSlidingWindow(x.iloc[t[0]],x.iloc[t[1]],features,target, window = spread)\n",
    "            training_list[i][0] += train_x\n",
    "            training_list[i][1] += train_y\n",
    "            testing_list[i][0] += test_x\n",
    "            testing_list[i][1] += test_y\n",
    "    training_lists[spread] = training_list\n",
    "    testing_lists[spread] = testing_list\n",
    "    training_list=[]\n",
    "    testing_list=[]\n",
    "    for i in range(ns):\n",
    "        training_list.append([[],[]])\n",
    "        testing_list.append([[],[]])"
   ]
  },
  {
   "cell_type": "code",
   "execution_count": 16,
   "id": "ad629ee2",
   "metadata": {},
   "outputs": [],
   "source": [
    "with open('saved_training_lists.pkl', 'wb') as f:\n",
    "    pickle.dump(training_lists, f)\n",
    "\n",
    "with open('saved_testing_lists.pkl', 'wb') as f:\n",
    "    pickle.dump(testing_lists, f)\n"
   ]
  },
  {
   "cell_type": "code",
   "execution_count": 48,
   "id": "9414d073",
   "metadata": {},
   "outputs": [],
   "source": [
    "with open('saved_training_lists.pkl', 'rb') as f:\n",
    "    training_lists = pickle.load(f)\n",
    "\n",
    "with open('saved_testing_lists.pkl', 'rb') as f:\n",
    "    testing_lists = pickle.load(f)"
   ]
  },
  {
   "cell_type": "code",
   "execution_count": 7,
   "id": "75a7369e",
   "metadata": {},
   "outputs": [],
   "source": [
    "def accuracies_model(model):\n",
    "    accuracies = {}\n",
    "    for window in training_lists.keys():\n",
    "        training_list = training_lists[window]\n",
    "        testing_list = testing_lists[window]\n",
    "        a=0 \n",
    "        for i in range(ns):\n",
    "            model.fit(X=training_list[i][0],y=training_list[i][1])\n",
    "            a+= accuracy_score(model.predict(testing_list[i][0]),testing_list[i][1])\n",
    "        a=a/ns\n",
    "        accuracies[window] = a\n",
    "    return accuracies"
   ]
  },
  {
   "cell_type": "code",
   "execution_count": 8,
   "id": "2aa9280d",
   "metadata": {},
   "outputs": [
    {
     "ename": "NameError",
     "evalue": "name 'training_lists' is not defined",
     "output_type": "error",
     "traceback": [
      "\u001b[31m---------------------------------------------------------------------------\u001b[39m",
      "\u001b[31mNameError\u001b[39m                                 Traceback (most recent call last)",
      "\u001b[36mCell\u001b[39m\u001b[36m \u001b[39m\u001b[32mIn[8]\u001b[39m\u001b[32m, line 2\u001b[39m\n\u001b[32m      1\u001b[39m model_names=[\u001b[33m'\u001b[39m\u001b[33mada\u001b[39m\u001b[33m'\u001b[39m,\u001b[33m'\u001b[39m\u001b[33mdecisiontree\u001b[39m\u001b[33m'\u001b[39m]\n\u001b[32m----> \u001b[39m\u001b[32m2\u001b[39m training_list  = \u001b[43mtraining_lists\u001b[49m[\u001b[32m13\u001b[39m]\n\u001b[32m      3\u001b[39m testing_list = testing_lists[\u001b[32m13\u001b[39m]\n\u001b[32m      4\u001b[39m accuracies=[]\n",
      "\u001b[31mNameError\u001b[39m: name 'training_lists' is not defined"
     ]
    }
   ],
   "source": [
    "model_names=['ada','decisiontree']\n",
    "training_list  = training_lists[13]\n",
    "testing_list = testing_lists[13]\n",
    "accuracies=[]\n",
    "models=[AdaBoostClassifier(n_estimators=200,random_state=121),DecisionTreeClassifier(random_state=rs)]\n",
    "#Add Possible AdaBoostModels:\n",
    "for m in models:\n",
    "    a=0\n",
    "    for i in range(ns):\n",
    "        m.fit(X=training_list[i][0],y=training_list[i][1])\n",
    "        a+= accuracy_score(m.predict(testing_list[i][0]),testing_list[i][1])\n",
    "    a=a/ns\n",
    "    accuracies.append(a)"
   ]
  },
  {
   "cell_type": "code",
   "execution_count": 18,
   "id": "a887d11b",
   "metadata": {},
   "outputs": [
    {
     "data": {
      "text/plain": [
       "[0.7651510706952186, 0.6777354062775007]"
      ]
     },
     "execution_count": 18,
     "metadata": {},
     "output_type": "execute_result"
    }
   ],
   "source": [
    "accuracies"
   ]
  },
  {
   "cell_type": "code",
   "execution_count": 19,
   "id": "ba63a651",
   "metadata": {},
   "outputs": [
    {
     "data": {
      "text/plain": [
       "dict_keys([7, 8, 9, 10, 11, 12, 13, 14, 15, 16, 17, 18, 19, 20])"
      ]
     },
     "execution_count": 19,
     "metadata": {},
     "output_type": "execute_result"
    }
   ],
   "source": [
    "training_lists.keys()"
   ]
  },
  {
   "cell_type": "code",
   "execution_count": null,
   "id": "5c016b0c",
   "metadata": {},
   "outputs": [
    {
     "ename": "NameError",
     "evalue": "name 'plot_accuracies' is not defined",
     "output_type": "error",
     "traceback": [
      "\u001b[31m---------------------------------------------------------------------------\u001b[39m",
      "\u001b[31mNameError\u001b[39m                                 Traceback (most recent call last)",
      "\u001b[36mCell\u001b[39m\u001b[36m \u001b[39m\u001b[32mIn[20]\u001b[39m\u001b[32m, line 6\u001b[39m\n\u001b[32m      4\u001b[39m \u001b[38;5;28;01mfor\u001b[39;00m ind, m \u001b[38;5;129;01min\u001b[39;00m \u001b[38;5;28menumerate\u001b[39m(models):\n\u001b[32m      5\u001b[39m     acc_model = accuracies_model(m)\n\u001b[32m----> \u001b[39m\u001b[32m6\u001b[39m     \u001b[43mplot_accuracies\u001b[49m(acc_model, model_names[ind])\n",
      "\u001b[31mNameError\u001b[39m: name 'plot_accuracies' is not defined"
     ]
    }
   ],
   "source": [
    "model_names=['ada','decisiontree']\n",
    "models=[AdaBoostClassifier(n_estimators=220,learning_rate=1,random_state=rs)]\n",
    "#Add Possible AdaBoostModels:\n",
    "for ind, m in enumerate(models):\n",
    "    acc_model = accuracies_model(m)\n",
    "    plot_accuracies(acc_model, model_names[ind])"
   ]
  },
  {
   "cell_type": "code",
   "execution_count": 21,
   "id": "f4d6cb90",
   "metadata": {},
   "outputs": [],
   "source": [
    "def plot_accuracies(accuracies, model_type):\n",
    "    plt.figure(figsize=(6, 4))\n",
    "    plt.plot(list(accuracies.keys()), list(accuracies.values()), marker='o')\n",
    "    plt.title(f\"{model_type} accuracy scores\")\n",
    "    plt.xlabel(\"Window size\")\n",
    "    plt.ylabel(\"accuracy\")\n",
    "    plt.tight_layout()\n",
    "    plt.show()"
   ]
  },
  {
   "cell_type": "code",
   "execution_count": 22,
   "id": "483de579",
   "metadata": {},
   "outputs": [
    {
     "data": {
      "image/png": "[encoded data removed]",
      "text/plain": [
       "<Figure size 600x400 with 1 Axes>"
      ]
     },
     "metadata": {},
     "output_type": "display_data"
    }
   ],
   "source": [
    "plot_accuracies(acc_model, model_names[ind])"
   ]
  },
  {
   "cell_type": "code",
   "execution_count": 19,
   "id": "3f29a112",
   "metadata": {},
   "outputs": [
    {
     "name": "stdout",
     "output_type": "stream",
     "text": [
      "AdaBoostClassifier(learning_rate=1, n_estimators=220)\n",
      "0.8191994720131739\n",
      "AdaBoostClassifier(learning_rate=1, n_estimators=200)\n",
      "0.836738932314244\n",
      "AdaBoostClassifier(learning_rate=1, n_estimators=180)\n",
      "0.8448664639503141\n",
      "AdaBoostClassifier(learning_rate=1, n_estimators=220)\n",
      "0.850352636201106\n",
      "AdaBoostClassifier(learning_rate=1, n_estimators=220)\n",
      "0.8507606993751269\n"
     ]
    }
   ],
   "source": [
    "#13 seems best from above\n",
    "window=13\n",
    "model=AdaBoostClassifier()\n",
    "\n",
    "parameters = {\n",
    "    'n_estimators' : [ 180, 200,220],\n",
    "    'learning_rate' : [1,10]\n",
    "}\n",
    "grid_search = GridSearchCV(model, parameters, cv = 5, n_jobs=-1)\n",
    "training_list = training_lists[window]\n",
    "testing_list = testing_lists[window]\n",
    "a=[] \n",
    "for i in range(ns):\n",
    "    grid_search.fit(X=training_list[i][0],y=training_list[i][1])\n",
    "    print(grid_search.best_estimator_)\n",
    "    print(grid_search.best_score_)\n",
    "    a.append(grid_search.cv_results_)\n",
    "\n",
    "    #a+= accuracy_score(model.predict(testing_list[i][0]),testing_list[i][1])\n",
    "#a=a/ns"
   ]
  },
  {
   "cell_type": "markdown",
   "id": "80d3c8cd",
   "metadata": {},
   "source": [
    "In the below:\n",
    "training_list: -> List of stocks -> List of timeseriessplit -> [train_x, train_y] -> train_x has shape (_,13x4) (_ is determined by which timesplit we're in), train_y has shape (_,1)"
   ]
  },
  {
   "cell_type": "code",
   "execution_count": 9,
   "id": "1d005883",
   "metadata": {},
   "outputs": [],
   "source": [
    "testing_size=500\n",
    "\n",
    "tss=TimeSeriesSplit(n_splits=ns,test_size=testing_size)\n",
    "training_list=[]\n",
    "testing_list=[]\n",
    "for j in range(len(l)):\n",
    "    ttl=[]\n",
    "    tstl=[]\n",
    "    for i in range(ns):\n",
    "        ttl.append([[],[]])\n",
    "        tstl.append([[],[]])\n",
    "    training_list.append(ttl)\n",
    "    testing_list.append(tstl)\n",
    "spread = 13\n",
    "for (j,x) in enumerate(l):\n",
    "    for (i,t) in enumerate(tss.split(x)):\n",
    "        ((train_x,train_y),(test_x,test_y))=createSlidingWindow(x.iloc[t[0]],x.iloc[t[1]],features,target, window = spread)\n",
    "        training_list[j][i][0] += train_x\n",
    "        training_list[j][i][1] += train_y\n",
    "        testing_list[j][i][0] += test_x\n",
    "        testing_list[j][i][1] += test_y\n"
   ]
  },
  {
   "cell_type": "code",
   "execution_count": 35,
   "id": "d58e1a65",
   "metadata": {},
   "outputs": [],
   "source": [
    "stock_accuracies={}\n",
    "model=AdaBoostClassifier(n_estimators=220,learning_rate=1,random_state=rs)\n",
    "for (j,x) in enumerate(l):\n",
    "    a=0\n",
    "    for i in range(ns):\n",
    "        model.fit(X=training_list[j][i][0],y=training_list[j][i][1])\n",
    "        a+=accuracy_score(model.predict(testing_list[j][i][0]),testing_list[j][i][1])\n",
    "    stock_accuracies[x['Ticker'].iloc[0]]=a/ns"
   ]
  },
  {
   "cell_type": "code",
   "execution_count": 36,
   "id": "4cd3d3e2",
   "metadata": {},
   "outputs": [
    {
     "data": {
      "text/plain": [
       "{'aapl': 0.8710472279260781,\n",
       " 'cvx': 0.857905544147844,\n",
       " 'dal': 0.942094455852156,\n",
       " 'googl': 0.686652977412731,\n",
       " 'nvda': 0.6271047227926078,\n",
       " 'vz': 0.8788501026694047,\n",
       " 'xom': 0.8574948665297741}"
      ]
     },
     "execution_count": 36,
     "metadata": {},
     "output_type": "execute_result"
    }
   ],
   "source": [
    "stock_accuracies"
   ]
  },
  {
   "cell_type": "markdown",
   "id": "52d95d0f",
   "metadata": {},
   "source": [
    "RNN Stuff"
   ]
  },
  {
   "cell_type": "code",
   "execution_count": 103,
   "id": "01a17050",
   "metadata": {},
   "outputs": [],
   "source": [
    "def createSlidingWindowRNN(tr,te,f,t, window=7):\n",
    "    splitting=SlidingWindowSplitter(window_length=window,step_length=1,fh=[1])\n",
    "    train_x=[]\n",
    "    train_y=[]\n",
    "    test_x=[]\n",
    "    test_y=[]\n",
    "    \n",
    "    for i in splitting.split(tr):\n",
    "        train_x.append(tr.iloc[i[0]][f].values)\n",
    "        train_y.append(tr.iloc[i[1]][t].values)\n",
    "    \n",
    "    for i in splitting.split(te):\n",
    "        test_x.append(te.iloc[i[0]][f].values)\n",
    "        test_y.append(te.iloc[i[1]][t].values)\n",
    "    return ((train_x,train_y),(test_x,test_y))"
   ]
  },
  {
   "cell_type": "code",
   "execution_count": 104,
   "id": "b5a9902c",
   "metadata": {},
   "outputs": [],
   "source": [
    "testing_size=500\n",
    "\n",
    "tss=TimeSeriesSplit(n_splits=ns,test_size=testing_size)\n",
    "training_list=[]\n",
    "testing_list=[]\n",
    "for j in range(len(l)):\n",
    "    ttl=[]\n",
    "    tstl=[]\n",
    "    for i in range(ns):\n",
    "        ttl.append([[],[]])\n",
    "        tstl.append([[],[]])\n",
    "    training_list.append(ttl)\n",
    "    testing_list.append(tstl)\n",
    "spread = 13\n",
    "for (j,x) in enumerate(l):\n",
    "    for (i,t) in enumerate(tss.split(x)):\n",
    "        ((train_x,train_y),(test_x,test_y))=createSlidingWindowRNN(x.iloc[t[0]],x.iloc[t[1]],features,target, window = spread)\n",
    "        training_list[j][i][0] += train_x\n",
    "        training_list[j][i][1] += train_y\n",
    "        testing_list[j][i][0] += test_x\n",
    "        testing_list[j][i][1] += test_y"
   ]
  },
  {
   "cell_type": "code",
   "execution_count": 85,
   "id": "b52ffab2",
   "metadata": {},
   "outputs": [
    {
     "data": {
      "text/plain": [
       "5"
      ]
     },
     "execution_count": 85,
     "metadata": {},
     "output_type": "execute_result"
    }
   ],
   "source": [
    "len(training_list[0])"
   ]
  },
  {
   "cell_type": "code",
   "execution_count": 244,
   "id": "d8fd1064",
   "metadata": {},
   "outputs": [],
   "source": [
    "import pandas as pd;\n",
    "import matplotlib.pyplot as plt\n",
    "from numpy import array\n",
    "from numpy import hstack\n",
    "import keras\n",
    "from keras.models import Sequential\n",
    "from keras.layers import Dense\n",
    "from keras.layers import LSTM\n",
    "from keras.layers import RNN, SimpleRNN\n",
    "from keras.layers import Dropout\n",
    "from keras.optimizers import Adam\n",
    "from keras.layers import Activation\n",
    "from keras.callbacks import LambdaCallback\n",
    "from sklearn.preprocessing import MinMaxScaler\n",
    "\n",
    "def build_model(train,test):\n",
    "\t# prepare data\n",
    "\tprint(len(train))\n",
    "\ttrain_x, train_y = np.array(train[0]),np.array(train[1])\n",
    "\ttest_x, test_y=np.array(test[0]),np.array(test[1])\n",
    "\tprint(len(train_x), len(train_y))\n",
    "\t# define pa1rameters\n",
    "\tverbose, epochs, batch_size = 1, 60, 128\n",
    "\tn_timesteps, n_features, n_outputs = len(train_x[0]), len(train_x[0][0]), len(train_y[0])\n",
    "\t# define model\n",
    "\tmodel = Sequential()\n",
    "\tmodel.add(LSTM(200, activation='relu', input_shape=(n_timesteps, n_features),return_sequences=False))\n",
    "\t#model.add(Dense(100, activation='relu'))\n",
    "\tmodel.add(Dropout(0.8, seed=121))\n",
    "\tmodel.add(Dense(n_outputs,activation='sigmoid'))\n",
    "\tmodel.compile(loss='binary_crossentropy', optimizer='adam',metrics=['accuracy'])\n",
    "\t# fit network\n",
    "\tmodel.fit(train_x, train_y, epochs=epochs, batch_size=batch_size, verbose=verbose,validation_data=(test_x,test_y))\n",
    "\treturn model\n"
   ]
  },
  {
   "cell_type": "code",
   "execution_count": 197,
   "id": "5aacd266",
   "metadata": {},
   "outputs": [],
   "source": [
    "def evaluate_model(train, test, n_input):\n",
    "\t# fit model\n",
    "\tmodel = build_model(train, n_input)\n",
    "\t# history is a list of weekly data\n",
    "\thistory = [x for x in train]\n",
    "\t# walk-forward validation over each week\n",
    "\tpredictions = list()\n",
    "\tfor i in range(len(test)):\n",
    "\t\t# predict the week\n",
    "\t\tyhat_sequence = forecast(model, history, n_input)\n",
    "\t\t# store the predictions\n",
    "\t\tpredictions.append(yhat_sequence)\n",
    "\t\t# get real observation and add to history for predicting the next week\n",
    "\t\thistory.append(test[i, :])\n",
    "\t# evaluate predictions days for each week\n",
    "\tpredictions = array(predictions)\n",
    "\tscore, scores = evaluate_forecasts(test[:, :, 0], predictions)\n",
    "\treturn score, scores"
   ]
  },
  {
   "cell_type": "code",
   "execution_count": 239,
   "id": "1e6dcf55",
   "metadata": {},
   "outputs": [
    {
     "name": "stdout",
     "output_type": "stream",
     "text": [
      "2\n",
      "4917 4917\n",
      "Epoch 1/60\n",
      "\u001b[1m39/39\u001b[0m \u001b[32m━━━━━━━━━━━━━━━━━━━━\u001b[0m\u001b[37m\u001b[0m \u001b[1m1s\u001b[0m 13ms/step - accuracy: 0.6604 - loss: 0.6251 - val_accuracy: 0.8029 - val_loss: 0.4486\n",
      "Epoch 2/60\n",
      "\u001b[1m39/39\u001b[0m \u001b[32m━━━━━━━━━━━━━━━━━━━━\u001b[0m\u001b[37m\u001b[0m \u001b[1m0s\u001b[0m 10ms/step - accuracy: 0.7759 - loss: 0.4680 - val_accuracy: 0.8296 - val_loss: 0.4237\n",
      "Epoch 3/60\n",
      "\u001b[1m39/39\u001b[0m \u001b[32m━━━━━━━━━━━━━━━━━━━━\u001b[0m\u001b[37m\u001b[0m \u001b[1m0s\u001b[0m 10ms/step - accuracy: 0.8042 - loss: 0.4348 - val_accuracy: 0.8316 - val_loss: 0.4198\n",
      "Epoch 4/60\n",
      "\u001b[1m39/39\u001b[0m \u001b[32m━━━━━━━━━━━━━━━━━━━━\u001b[0m\u001b[37m\u001b[0m \u001b[1m0s\u001b[0m 10ms/step - accuracy: 0.8135 - loss: 0.4245 - val_accuracy: 0.8255 - val_loss: 0.4152\n",
      "Epoch 5/60\n",
      "\u001b[1m39/39\u001b[0m \u001b[32m━━━━━━━━━━━━━━━━━━━━\u001b[0m\u001b[37m\u001b[0m \u001b[1m0s\u001b[0m 10ms/step - accuracy: 0.8187 - loss: 0.4144 - val_accuracy: 0.8296 - val_loss: 0.4003\n",
      "Epoch 6/60\n",
      "\u001b[1m39/39\u001b[0m \u001b[32m━━━━━━━━━━━━━━━━━━━━\u001b[0m\u001b[37m\u001b[0m \u001b[1m0s\u001b[0m 10ms/step - accuracy: 0.8208 - loss: 0.4140 - val_accuracy: 0.8255 - val_loss: 0.4069\n",
      "Epoch 7/60\n",
      "\u001b[1m39/39\u001b[0m \u001b[32m━━━━━━━━━━━━━━━━━━━━\u001b[0m\u001b[37m\u001b[0m \u001b[1m0s\u001b[0m 11ms/step - accuracy: 0.8136 - loss: 0.4186 - val_accuracy: 0.8214 - val_loss: 0.4066\n",
      "Epoch 8/60\n",
      "\u001b[1m39/39\u001b[0m \u001b[32m━━━━━━━━━━━━━━━━━━━━\u001b[0m\u001b[37m\u001b[0m \u001b[1m0s\u001b[0m 10ms/step - accuracy: 0.8152 - loss: 0.4096 - val_accuracy: 0.8255 - val_loss: 0.4003\n",
      "Epoch 9/60\n",
      "\u001b[1m39/39\u001b[0m \u001b[32m━━━━━━━━━━━━━━━━━━━━\u001b[0m\u001b[37m\u001b[0m \u001b[1m0s\u001b[0m 10ms/step - accuracy: 0.8183 - loss: 0.4093 - val_accuracy: 0.8214 - val_loss: 0.4022\n",
      "Epoch 10/60\n",
      "\u001b[1m39/39\u001b[0m \u001b[32m━━━━━━━━━━━━━━━━━━━━\u001b[0m\u001b[37m\u001b[0m \u001b[1m0s\u001b[0m 10ms/step - accuracy: 0.8172 - loss: 0.4165 - val_accuracy: 0.8234 - val_loss: 0.3999\n",
      "Epoch 11/60\n",
      "\u001b[1m39/39\u001b[0m \u001b[32m━━━━━━━━━━━━━━━━━━━━\u001b[0m\u001b[37m\u001b[0m \u001b[1m0s\u001b[0m 10ms/step - accuracy: 0.8110 - loss: 0.4136 - val_accuracy: 0.8316 - val_loss: 0.3992\n",
      "Epoch 12/60\n",
      "\u001b[1m39/39\u001b[0m \u001b[32m━━━━━━━━━━━━━━━━━━━━\u001b[0m\u001b[37m\u001b[0m \u001b[1m0s\u001b[0m 10ms/step - accuracy: 0.8273 - loss: 0.3995 - val_accuracy: 0.8275 - val_loss: 0.4073\n",
      "Epoch 13/60\n",
      "\u001b[1m39/39\u001b[0m \u001b[32m━━━━━━━━━━━━━━━━━━━━\u001b[0m\u001b[37m\u001b[0m \u001b[1m0s\u001b[0m 10ms/step - accuracy: 0.8124 - loss: 0.4072 - val_accuracy: 0.8296 - val_loss: 0.4012\n",
      "Epoch 14/60\n",
      "\u001b[1m39/39\u001b[0m \u001b[32m━━━━━━━━━━━━━━━━━━━━\u001b[0m\u001b[37m\u001b[0m \u001b[1m0s\u001b[0m 10ms/step - accuracy: 0.8207 - loss: 0.4068 - val_accuracy: 0.8172 - val_loss: 0.4123\n",
      "Epoch 15/60\n",
      "\u001b[1m39/39\u001b[0m \u001b[32m━━━━━━━━━━━━━━━━━━━━\u001b[0m\u001b[37m\u001b[0m \u001b[1m0s\u001b[0m 10ms/step - accuracy: 0.8104 - loss: 0.4095 - val_accuracy: 0.8255 - val_loss: 0.4198\n",
      "Epoch 16/60\n",
      "\u001b[1m39/39\u001b[0m \u001b[32m━━━━━━━━━━━━━━━━━━━━\u001b[0m\u001b[37m\u001b[0m \u001b[1m0s\u001b[0m 11ms/step - accuracy: 0.8289 - loss: 0.3994 - val_accuracy: 0.8152 - val_loss: 0.4092\n",
      "Epoch 17/60\n",
      "\u001b[1m39/39\u001b[0m \u001b[32m━━━━━━━━━━━━━━━━━━━━\u001b[0m\u001b[37m\u001b[0m \u001b[1m0s\u001b[0m 10ms/step - accuracy: 0.8174 - loss: 0.4042 - val_accuracy: 0.8275 - val_loss: 0.4055\n",
      "Epoch 18/60\n",
      "\u001b[1m39/39\u001b[0m \u001b[32m━━━━━━━━━━━━━━━━━━━━\u001b[0m\u001b[37m\u001b[0m \u001b[1m0s\u001b[0m 10ms/step - accuracy: 0.8364 - loss: 0.3891 - val_accuracy: 0.8234 - val_loss: 0.4089\n",
      "Epoch 19/60\n",
      "\u001b[1m39/39\u001b[0m \u001b[32m━━━━━━━━━━━━━━━━━━━━\u001b[0m\u001b[37m\u001b[0m \u001b[1m0s\u001b[0m 10ms/step - accuracy: 0.8264 - loss: 0.4086 - val_accuracy: 0.8111 - val_loss: 0.4094\n",
      "Epoch 20/60\n",
      "\u001b[1m39/39\u001b[0m \u001b[32m━━━━━━━━━━━━━━━━━━━━\u001b[0m\u001b[37m\u001b[0m \u001b[1m0s\u001b[0m 10ms/step - accuracy: 0.8287 - loss: 0.4013 - val_accuracy: 0.8234 - val_loss: 0.4095\n",
      "Epoch 21/60\n",
      "\u001b[1m39/39\u001b[0m \u001b[32m━━━━━━━━━━━━━━━━━━━━\u001b[0m\u001b[37m\u001b[0m \u001b[1m0s\u001b[0m 10ms/step - accuracy: 0.8330 - loss: 0.4051 - val_accuracy: 0.8029 - val_loss: 0.4162\n",
      "Epoch 22/60\n",
      "\u001b[1m39/39\u001b[0m \u001b[32m━━━━━━━━━━━━━━━━━━━━\u001b[0m\u001b[37m\u001b[0m \u001b[1m0s\u001b[0m 10ms/step - accuracy: 0.8302 - loss: 0.3945 - val_accuracy: 0.8193 - val_loss: 0.4010\n",
      "Epoch 23/60\n",
      "\u001b[1m39/39\u001b[0m \u001b[32m━━━━━━━━━━━━━━━━━━━━\u001b[0m\u001b[37m\u001b[0m \u001b[1m0s\u001b[0m 10ms/step - accuracy: 0.8281 - loss: 0.3914 - val_accuracy: 0.8152 - val_loss: 0.4127\n",
      "Epoch 24/60\n",
      "\u001b[1m39/39\u001b[0m \u001b[32m━━━━━━━━━━━━━━━━━━━━\u001b[0m\u001b[37m\u001b[0m \u001b[1m0s\u001b[0m 10ms/step - accuracy: 0.8413 - loss: 0.3935 - val_accuracy: 0.8172 - val_loss: 0.4130\n",
      "Epoch 25/60\n",
      "\u001b[1m39/39\u001b[0m \u001b[32m━━━━━━━━━━━━━━━━━━━━\u001b[0m\u001b[37m\u001b[0m \u001b[1m0s\u001b[0m 10ms/step - accuracy: 0.8310 - loss: 0.3800 - val_accuracy: 0.8111 - val_loss: 0.4128\n",
      "Epoch 26/60\n",
      "\u001b[1m39/39\u001b[0m \u001b[32m━━━━━━━━━━━━━━━━━━━━\u001b[0m\u001b[37m\u001b[0m \u001b[1m0s\u001b[0m 10ms/step - accuracy: 0.8353 - loss: 0.3975 - val_accuracy: 0.8152 - val_loss: 0.4080\n",
      "Epoch 27/60\n",
      "\u001b[1m39/39\u001b[0m \u001b[32m━━━━━━━━━━━━━━━━━━━━\u001b[0m\u001b[37m\u001b[0m \u001b[1m0s\u001b[0m 10ms/step - accuracy: 0.8378 - loss: 0.3863 - val_accuracy: 0.8172 - val_loss: 0.4253\n",
      "Epoch 28/60\n",
      "\u001b[1m39/39\u001b[0m \u001b[32m━━━━━━━━━━━━━━━━━━━━\u001b[0m\u001b[37m\u001b[0m \u001b[1m0s\u001b[0m 10ms/step - accuracy: 0.8330 - loss: 0.3896 - val_accuracy: 0.8214 - val_loss: 0.4176\n",
      "Epoch 29/60\n",
      "\u001b[1m39/39\u001b[0m \u001b[32m━━━━━━━━━━━━━━━━━━━━\u001b[0m\u001b[37m\u001b[0m \u001b[1m0s\u001b[0m 10ms/step - accuracy: 0.8311 - loss: 0.3863 - val_accuracy: 0.8152 - val_loss: 0.4259\n",
      "Epoch 30/60\n",
      "\u001b[1m39/39\u001b[0m \u001b[32m━━━━━━━━━━━━━━━━━━━━\u001b[0m\u001b[37m\u001b[0m \u001b[1m0s\u001b[0m 10ms/step - accuracy: 0.8294 - loss: 0.4031 - val_accuracy: 0.8255 - val_loss: 0.4123\n",
      "Epoch 31/60\n",
      "\u001b[1m39/39\u001b[0m \u001b[32m━━━━━━━━━━━━━━━━━━━━\u001b[0m\u001b[37m\u001b[0m \u001b[1m0s\u001b[0m 10ms/step - accuracy: 0.8311 - loss: 0.3872 - val_accuracy: 0.8357 - val_loss: 0.4044\n",
      "Epoch 32/60\n",
      "\u001b[1m39/39\u001b[0m \u001b[32m━━━━━━━━━━━━━━━━━━━━\u001b[0m\u001b[37m\u001b[0m \u001b[1m0s\u001b[0m 10ms/step - accuracy: 0.8341 - loss: 0.3850 - val_accuracy: 0.8234 - val_loss: 0.4121\n",
      "Epoch 33/60\n",
      "\u001b[1m39/39\u001b[0m \u001b[32m━━━━━━━━━━━━━━━━━━━━\u001b[0m\u001b[37m\u001b[0m \u001b[1m0s\u001b[0m 10ms/step - accuracy: 0.8307 - loss: 0.3796 - val_accuracy: 0.8172 - val_loss: 0.4269\n",
      "Epoch 34/60\n",
      "\u001b[1m39/39\u001b[0m \u001b[32m━━━━━━━━━━━━━━━━━━━━\u001b[0m\u001b[37m\u001b[0m \u001b[1m0s\u001b[0m 10ms/step - accuracy: 0.8366 - loss: 0.3805 - val_accuracy: 0.8255 - val_loss: 0.4246\n",
      "Epoch 35/60\n",
      "\u001b[1m39/39\u001b[0m \u001b[32m━━━━━━━━━━━━━━━━━━━━\u001b[0m\u001b[37m\u001b[0m \u001b[1m0s\u001b[0m 10ms/step - accuracy: 0.7869 - loss: 0.6026 - val_accuracy: 0.7803 - val_loss: 0.4704\n",
      "Epoch 36/60\n",
      "\u001b[1m39/39\u001b[0m \u001b[32m━━━━━━━━━━━━━━━━━━━━\u001b[0m\u001b[37m\u001b[0m \u001b[1m0s\u001b[0m 10ms/step - accuracy: 0.7913 - loss: 0.4710 - val_accuracy: 0.8193 - val_loss: 0.4189\n",
      "Epoch 37/60\n",
      "\u001b[1m39/39\u001b[0m \u001b[32m━━━━━━━━━━━━━━━━━━━━\u001b[0m\u001b[37m\u001b[0m \u001b[1m0s\u001b[0m 10ms/step - accuracy: 0.7943 - loss: 0.4351 - val_accuracy: 0.8214 - val_loss: 0.4115\n",
      "Epoch 38/60\n",
      "\u001b[1m39/39\u001b[0m \u001b[32m━━━━━━━━━━━━━━━━━━━━\u001b[0m\u001b[37m\u001b[0m \u001b[1m0s\u001b[0m 10ms/step - accuracy: 0.8011 - loss: 0.4279 - val_accuracy: 0.8172 - val_loss: 0.4091\n",
      "Epoch 39/60\n",
      "\u001b[1m39/39\u001b[0m \u001b[32m━━━━━━━━━━━━━━━━━━━━\u001b[0m\u001b[37m\u001b[0m \u001b[1m0s\u001b[0m 10ms/step - accuracy: 0.8184 - loss: 0.4101 - val_accuracy: 0.8131 - val_loss: 0.4147\n",
      "Epoch 40/60\n",
      "\u001b[1m39/39\u001b[0m \u001b[32m━━━━━━━━━━━━━━━━━━━━\u001b[0m\u001b[37m\u001b[0m \u001b[1m0s\u001b[0m 10ms/step - accuracy: 0.8049 - loss: 0.4230 - val_accuracy: 0.8275 - val_loss: 0.4013\n",
      "Epoch 41/60\n",
      "\u001b[1m39/39\u001b[0m \u001b[32m━━━━━━━━━━━━━━━━━━━━\u001b[0m\u001b[37m\u001b[0m \u001b[1m0s\u001b[0m 10ms/step - accuracy: 0.8131 - loss: 0.4131 - val_accuracy: 0.8090 - val_loss: 0.4361\n",
      "Epoch 42/60\n",
      "\u001b[1m39/39\u001b[0m \u001b[32m━━━━━━━━━━━━━━━━━━━━\u001b[0m\u001b[37m\u001b[0m \u001b[1m0s\u001b[0m 10ms/step - accuracy: 0.7974 - loss: 0.4284 - val_accuracy: 0.8214 - val_loss: 0.4082\n",
      "Epoch 43/60\n",
      "\u001b[1m39/39\u001b[0m \u001b[32m━━━━━━━━━━━━━━━━━━━━\u001b[0m\u001b[37m\u001b[0m \u001b[1m0s\u001b[0m 10ms/step - accuracy: 0.8159 - loss: 0.4185 - val_accuracy: 0.8152 - val_loss: 0.4121\n",
      "Epoch 44/60\n",
      "\u001b[1m39/39\u001b[0m \u001b[32m━━━━━━━━━━━━━━━━━━━━\u001b[0m\u001b[37m\u001b[0m \u001b[1m0s\u001b[0m 10ms/step - accuracy: 0.8178 - loss: 0.4040 - val_accuracy: 0.8234 - val_loss: 0.4162\n",
      "Epoch 45/60\n",
      "\u001b[1m39/39\u001b[0m \u001b[32m━━━━━━━━━━━━━━━━━━━━\u001b[0m\u001b[37m\u001b[0m \u001b[1m0s\u001b[0m 10ms/step - accuracy: 0.8165 - loss: 0.4091 - val_accuracy: 0.8316 - val_loss: 0.4084\n",
      "Epoch 46/60\n",
      "\u001b[1m39/39\u001b[0m \u001b[32m━━━━━━━━━━━━━━━━━━━━\u001b[0m\u001b[37m\u001b[0m \u001b[1m0s\u001b[0m 10ms/step - accuracy: 0.8156 - loss: 0.4043 - val_accuracy: 0.8193 - val_loss: 0.4079\n",
      "Epoch 47/60\n",
      "\u001b[1m39/39\u001b[0m \u001b[32m━━━━━━━━━━━━━━━━━━━━\u001b[0m\u001b[37m\u001b[0m \u001b[1m0s\u001b[0m 10ms/step - accuracy: 0.8116 - loss: 0.4077 - val_accuracy: 0.8214 - val_loss: 0.4118\n",
      "Epoch 48/60\n",
      "\u001b[1m39/39\u001b[0m \u001b[32m━━━━━━━━━━━━━━━━━━━━\u001b[0m\u001b[37m\u001b[0m \u001b[1m0s\u001b[0m 10ms/step - accuracy: 0.8249 - loss: 0.3988 - val_accuracy: 0.8193 - val_loss: 0.4194\n",
      "Epoch 49/60\n",
      "\u001b[1m39/39\u001b[0m \u001b[32m━━━━━━━━━━━━━━━━━━━━\u001b[0m\u001b[37m\u001b[0m \u001b[1m0s\u001b[0m 10ms/step - accuracy: 0.8289 - loss: 0.3852 - val_accuracy: 0.8193 - val_loss: 0.4133\n",
      "Epoch 50/60\n",
      "\u001b[1m39/39\u001b[0m \u001b[32m━━━━━━━━━━━━━━━━━━━━\u001b[0m\u001b[37m\u001b[0m \u001b[1m0s\u001b[0m 11ms/step - accuracy: 0.8288 - loss: 0.3950 - val_accuracy: 0.8255 - val_loss: 0.4105\n",
      "Epoch 51/60\n",
      "\u001b[1m39/39\u001b[0m \u001b[32m━━━━━━━━━━━━━━━━━━━━\u001b[0m\u001b[37m\u001b[0m \u001b[1m0s\u001b[0m 10ms/step - accuracy: 0.8203 - loss: 0.3886 - val_accuracy: 0.7988 - val_loss: 0.4251\n",
      "Epoch 52/60\n",
      "\u001b[1m39/39\u001b[0m \u001b[32m━━━━━━━━━━━━━━━━━━━━\u001b[0m\u001b[37m\u001b[0m \u001b[1m0s\u001b[0m 10ms/step - accuracy: 0.8155 - loss: 0.3949 - val_accuracy: 0.8214 - val_loss: 0.4194\n",
      "Epoch 53/60\n",
      "\u001b[1m39/39\u001b[0m \u001b[32m━━━━━━━━━━━━━━━━━━━━\u001b[0m\u001b[37m\u001b[0m \u001b[1m0s\u001b[0m 10ms/step - accuracy: 0.8262 - loss: 0.3956 - val_accuracy: 0.8214 - val_loss: 0.4108\n",
      "Epoch 54/60\n",
      "\u001b[1m39/39\u001b[0m \u001b[32m━━━━━━━━━━━━━━━━━━━━\u001b[0m\u001b[37m\u001b[0m \u001b[1m0s\u001b[0m 10ms/step - accuracy: 0.8268 - loss: 0.3915 - val_accuracy: 0.8131 - val_loss: 0.4113\n",
      "Epoch 55/60\n",
      "\u001b[1m39/39\u001b[0m \u001b[32m━━━━━━━━━━━━━━━━━━━━\u001b[0m\u001b[37m\u001b[0m \u001b[1m0s\u001b[0m 10ms/step - accuracy: 0.8160 - loss: 0.4035 - val_accuracy: 0.8131 - val_loss: 0.4080\n",
      "Epoch 56/60\n",
      "\u001b[1m39/39\u001b[0m \u001b[32m━━━━━━━━━━━━━━━━━━━━\u001b[0m\u001b[37m\u001b[0m \u001b[1m0s\u001b[0m 10ms/step - accuracy: 0.8398 - loss: 0.3906 - val_accuracy: 0.8214 - val_loss: 0.4082\n",
      "Epoch 57/60\n",
      "\u001b[1m39/39\u001b[0m \u001b[32m━━━━━━━━━━━━━━━━━━━━\u001b[0m\u001b[37m\u001b[0m \u001b[1m0s\u001b[0m 10ms/step - accuracy: 0.8264 - loss: 0.3840 - val_accuracy: 0.8172 - val_loss: 0.4149\n",
      "Epoch 58/60\n",
      "\u001b[1m39/39\u001b[0m \u001b[32m━━━━━━━━━━━━━━━━━━━━\u001b[0m\u001b[37m\u001b[0m \u001b[1m0s\u001b[0m 11ms/step - accuracy: 0.8428 - loss: 0.3754 - val_accuracy: 0.8214 - val_loss: 0.4214\n",
      "Epoch 59/60\n",
      "\u001b[1m39/39\u001b[0m \u001b[32m━━━━━━━━━━━━━━━━━━━━\u001b[0m\u001b[37m\u001b[0m \u001b[1m0s\u001b[0m 10ms/step - accuracy: 0.8209 - loss: 0.3946 - val_accuracy: 0.7947 - val_loss: 0.4193\n",
      "Epoch 60/60\n",
      "\u001b[1m39/39\u001b[0m \u001b[32m━━━━━━━━━━━━━━━━━━━━\u001b[0m\u001b[37m\u001b[0m \u001b[1m0s\u001b[0m 10ms/step - accuracy: 0.8274 - loss: 0.3882 - val_accuracy: 0.8029 - val_loss: 0.4207\n"
     ]
    }
   ],
   "source": [
    "model=build_model(training_list[0][-1],testing_list[0][-1])"
   ]
  },
  {
   "cell_type": "code",
   "execution_count": 240,
   "id": "1df8174b",
   "metadata": {},
   "outputs": [
    {
     "data": {
      "image/png": "[encoded data removed]",
      "text/plain": [
       "<Figure size 640x480 with 1 Axes>"
      ]
     },
     "metadata": {},
     "output_type": "display_data"
    }
   ],
   "source": [
    "plt.plot(model.history.history['accuracy'])\n",
    "plt.plot(model.history.history['val_accuracy'])\n",
    "plt.ylabel('accuracy')\n",
    "plt.xlabel('epoch')\n",
    "plt.legend(['train', 'val'], loc='upper left')\n",
    "plt.show()"
   ]
  },
  {
   "cell_type": "code",
   "execution_count": 230,
   "id": "695d59f4",
   "metadata": {},
   "outputs": [
    {
     "name": "stdout",
     "output_type": "stream",
     "text": [
      "\u001b[1m16/16\u001b[0m \u001b[32m━━━━━━━━━━━━━━━━━━━━\u001b[0m\u001b[37m\u001b[0m \u001b[1m0s\u001b[0m 7ms/step\n"
     ]
    }
   ],
   "source": [
    "test_output = np.floor(model.predict(np.array(testing_list[0][-1][0]))*2)"
   ]
  },
  {
   "cell_type": "code",
   "execution_count": 243,
   "id": "1e2756ad",
   "metadata": {},
   "outputs": [
    {
     "data": {
      "text/plain": [
       "0.17248459958932238"
      ]
     },
     "execution_count": 243,
     "metadata": {},
     "output_type": "execute_result"
    }
   ],
   "source": [
    "accuracy_score(test_output,np.array(testing_list[0][-1][1]).astype(float))"
   ]
  },
  {
   "cell_type": "code",
   "execution_count": 242,
   "id": "ff3c16c2",
   "metadata": {},
   "outputs": [
    {
     "data": {
      "text/plain": [
       "0.6591375770020534"
      ]
     },
     "execution_count": 242,
     "metadata": {},
     "output_type": "execute_result"
    }
   ],
   "source": [
    "accuracy_score([0]*len(testing_list[0][-1][1]),np.array(testing_list[0][-1][1]).astype(float))"
   ]
  }
 ],
 "metadata": {
  "kernelspec": {
   "display_name": "erdos_spring_2025",
   "language": "python",
   "name": "python3"
  },
  "language_info": {
   "codemirror_mode": {
    "name": "ipython",
    "version": 3
   },
   "file_extension": ".py",
   "mimetype": "text/x-python",
   "name": "python",
   "nbconvert_exporter": "python",
   "pygments_lexer": "ipython3",
   "version": "3.12.9"
  }
 },
 "nbformat": 4,
 "nbformat_minor": 5
}
