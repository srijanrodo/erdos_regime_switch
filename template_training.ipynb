{
 "cells": [
  {
   "cell_type": "code",
   "execution_count": 104,
   "metadata": {},
   "outputs": [
    {
     "name": "stdout",
     "output_type": "stream",
     "text": [
      "Requirement already satisfied: sktime in /home/srijan/anaconda3/envs/erdos_spring_2025/lib/python3.12/site-packages (0.36.1)\n",
      "Requirement already satisfied: joblib<1.5,>=1.2.0 in /home/srijan/anaconda3/envs/erdos_spring_2025/lib/python3.12/site-packages (from sktime) (1.4.2)\n",
      "Requirement already satisfied: numpy<2.3,>=1.21 in /home/srijan/anaconda3/envs/erdos_spring_2025/lib/python3.12/site-packages (from sktime) (2.2.2)\n",
      "Requirement already satisfied: packaging in /home/srijan/anaconda3/envs/erdos_spring_2025/lib/python3.12/site-packages (from sktime) (24.2)\n",
      "Requirement already satisfied: pandas<2.3.0,>=1.1 in /home/srijan/anaconda3/envs/erdos_spring_2025/lib/python3.12/site-packages (from sktime) (2.2.3)\n",
      "Requirement already satisfied: scikit-base<0.13.0,>=0.6.1 in /home/srijan/anaconda3/envs/erdos_spring_2025/lib/python3.12/site-packages (from sktime) (0.12.2)\n",
      "Requirement already satisfied: scikit-learn<1.7.0,>=0.24 in /home/srijan/anaconda3/envs/erdos_spring_2025/lib/python3.12/site-packages (from sktime) (1.6.1)\n",
      "Requirement already satisfied: scipy<2.0.0,>=1.2 in /home/srijan/anaconda3/envs/erdos_spring_2025/lib/python3.12/site-packages (from sktime) (1.15.1)\n",
      "Requirement already satisfied: python-dateutil>=2.8.2 in /home/srijan/anaconda3/envs/erdos_spring_2025/lib/python3.12/site-packages (from pandas<2.3.0,>=1.1->sktime) (2.9.0.post0)\n",
      "Requirement already satisfied: pytz>=2020.1 in /home/srijan/anaconda3/envs/erdos_spring_2025/lib/python3.12/site-packages (from pandas<2.3.0,>=1.1->sktime) (2024.1)\n",
      "Requirement already satisfied: tzdata>=2022.7 in /home/srijan/anaconda3/envs/erdos_spring_2025/lib/python3.12/site-packages (from pandas<2.3.0,>=1.1->sktime) (2025.1)\n",
      "Requirement already satisfied: threadpoolctl>=3.1.0 in /home/srijan/anaconda3/envs/erdos_spring_2025/lib/python3.12/site-packages (from scikit-learn<1.7.0,>=0.24->sktime) (3.5.0)\n",
      "Requirement already satisfied: six>=1.5 in /home/srijan/anaconda3/envs/erdos_spring_2025/lib/python3.12/site-packages (from python-dateutil>=2.8.2->pandas<2.3.0,>=1.1->sktime) (1.17.0)\n"
     ]
    }
   ],
   "source": [
    "!pip install sktime"
   ]
  },
  {
   "cell_type": "code",
   "execution_count": 105,
   "metadata": {},
   "outputs": [],
   "source": [
    "import pandas as pd\n",
    "import numpy as np\n",
    "import seaborn as sns\n",
    "import os\n",
    "from sklearn.model_selection import train_test_split, StratifiedKFold\n",
    "from sktime.forecasting.model_selection import SlidingWindowSplitter\n",
    "from sklearn.model_selection import TimeSeriesSplit\n",
    "from sklearn.linear_model import LogisticRegression\n",
    "from sklearn.ensemble import RandomForestClassifier\n",
    "from sklearn.tree import DecisionTreeClassifier\n",
    "from sklearn.ensemble import AdaBoostClassifier\n",
    "from sklearn.svm import SVC\n",
    "from sklearn.metrics import accuracy_score\n",
    "from sklearn.pipeline import make_pipeline, Pipeline\n",
    "from sklearn.model_selection import GridSearchCV"
   ]
  },
  {
   "cell_type": "code",
   "execution_count": 106,
   "metadata": {},
   "outputs": [],
   "source": [
    "rs=121\n",
    "stocks=['aapl','googl','nvda','dal','xom','cvx','vz']"
   ]
  },
  {
   "cell_type": "code",
   "execution_count": 107,
   "metadata": {},
   "outputs": [],
   "source": [
    "init_dir_path = str(os.getcwd())\n",
    "data=pd.read_csv(init_dir_path+'/stock_hmm_output.csv',engine='python').drop(['Unnamed: 0'],axis=1)\n",
    "features=['Return','Volatility','HighR','LowR']\n",
    "target='State'\n",
    "train, test = train_test_split(data,test_size=0.2,shuffle=True,random_state=rs,stratify=data['State'])"
   ]
  },
  {
   "cell_type": "code",
   "execution_count": 108,
   "metadata": {},
   "outputs": [],
   "source": [
    "#Without TimeSeries\n",
    "accuracy=0\n",
    "ns=5\n",
    "kfold=StratifiedKFold(n_splits=ns,shuffle=True,random_state=121)\n",
    "for train_i, test_i in kfold.split(train,train[target]):\n",
    "    training_set=train.iloc[train_i]\n",
    "    testing_set=train.iloc[test_i]\n",
    "    #Do training here for each model on training_set\n",
    "\n",
    "\n",
    "    #Measure accuracy of the model on testing_set (using accuracy_score should be fine)\n",
    "\n",
    "\n",
    "    #Add the accuracy scores from the multiple iterations\n",
    "\n",
    "#Average the accuracy\n",
    "ns=ns/5\n"
   ]
  },
  {
   "cell_type": "code",
   "execution_count": 109,
   "metadata": {},
   "outputs": [],
   "source": [
    "#With TimeSeries\n",
    "#First Set Aside Testing data\n",
    "final_test=[]\n",
    "l=[]\n",
    "ft_size=400\n",
    "for x in data.groupby(['Ticker']):\n",
    "    final_test.append(x[1][-ft_size:])\n",
    "    l.append(x[1][:-ft_size])\n",
    "#Model Training\n",
    "#model=\n",
    "#model.fit(x=train_x,y=train_y)\n",
    "#Model Prediction and Accuracy\n",
    "#accuracy_score(test_y,model.predict(test_x))\n"
   ]
  },
  {
   "cell_type": "code",
   "execution_count": 110,
   "metadata": {},
   "outputs": [],
   "source": [
    "def createSlidingWindow(tr,te,f,t):\n",
    "    splitting=SlidingWindowSplitter(window_length=7,step_length=1,fh=[1])\n",
    "    train_x=[]\n",
    "    train_y=[]\n",
    "    test_x=[]\n",
    "    test_y=[]\n",
    "    \n",
    "    for i in splitting.split(tr):\n",
    "        train_x.append(tr.iloc[i[0]][f].values.flatten())\n",
    "        train_y.append(tr.iloc[i[1]][t].values.flatten()[0])\n",
    "    \n",
    "    for i in splitting.split(te):\n",
    "        test_x.append(te.iloc[i[0]][f].values.flatten())\n",
    "        test_y.append(te.iloc[i[1]][t].values.flatten()[0])\n",
    "    return ((train_x,train_y),(test_x,test_y))"
   ]
  },
  {
   "cell_type": "code",
   "execution_count": 111,
   "metadata": {},
   "outputs": [],
   "source": [
    "testing_size=500\n",
    "ns=5\n",
    "tss=TimeSeriesSplit(n_splits=ns,test_size=testing_size)\n",
    "training_list=[]\n",
    "testing_list=[]\n",
    "for i in range(ns):\n",
    "    training_list.append([[],[]])\n",
    "    testing_list.append([[],[]])\n",
    "for x in l:\n",
    "    for (i,t) in enumerate(tss.split(x)):\n",
    "        ((train_x,train_y),(test_x,test_y))=createSlidingWindow(x.iloc[t[0]],x.iloc[t[1]],features,target)\n",
    "        training_list[i][0] += train_x\n",
    "        training_list[i][1] += train_y\n",
    "        testing_list[i][0] += test_x\n",
    "        testing_list[i][1] += test_y\n"
   ]
  },
  {
   "cell_type": "code",
   "execution_count": 112,
   "metadata": {},
   "outputs": [],
   "source": [
    "model_names=['ada','decisiontree']\n",
    "accuracies=[]\n",
    "models=[AdaBoostClassifier(n_estimators=100,random_state=121),DecisionTreeClassifier(random_state=rs)]\n",
    "#Add Possible AdaBoostModels:\n",
    "for m in models:\n",
    "    a=0\n",
    "    for i in range(ns):\n",
    "        m.fit(X=training_list[i][0],y=training_list[i][1])\n",
    "        a+= accuracy_score(m.predict(testing_list[i][0]),testing_list[i][1])\n",
    "    a=a/ns\n",
    "    accuracies.append(a)"
   ]
  },
  {
   "cell_type": "code",
   "execution_count": 120,
   "metadata": {},
   "outputs": [
    {
     "name": "stdout",
     "output_type": "stream",
     "text": [
      "0.7711388003477253\n"
     ]
    }
   ],
   "source": [
    "a=0\n",
    "for i in range(ns):\n",
    "    a+=accuracy_score([1]*len(testing_list[i][1]),testing_list[i][1])\n",
    "a=a/ns\n",
    "print(a)"
   ]
  },
  {
   "cell_type": "code",
   "execution_count": 117,
   "metadata": {},
   "outputs": [
    {
     "data": {
      "text/plain": [
       "[0.8718052738336715, 0.7982613735149232]"
      ]
     },
     "execution_count": 117,
     "metadata": {},
     "output_type": "execute_result"
    }
   ],
   "source": [
    "accuracies"
   ]
  }
 ],
 "metadata": {
  "kernelspec": {
   "display_name": "erdos_spring_2025",
   "language": "python",
   "name": "python3"
  },
  "language_info": {
   "codemirror_mode": {
    "name": "ipython",
    "version": 3
   },
   "file_extension": ".py",
   "mimetype": "text/x-python",
   "name": "python",
   "nbconvert_exporter": "python",
   "pygments_lexer": "ipython3",
   "version": "3.12.8"
  }
 },
 "nbformat": 4,
 "nbformat_minor": 2
}
