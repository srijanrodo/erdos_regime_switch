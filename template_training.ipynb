{
 "cells": [
  {
   "cell_type": "code",
   "execution_count": null,
   "metadata": {},
   "outputs": [],
   "source": [
    "!pip install sktime"
   ]
  },
  {
   "cell_type": "code",
   "execution_count": 5,
   "metadata": {},
   "outputs": [],
   "source": [
    "import pandas as pd\n",
    "import numpy as np\n",
    "import seaborn as sns\n",
    "import os\n",
    "from sklearn.model_selection import train_test_split, StratifiedKFold\n",
    "from sktime.forecasting.model_selection import SlidingWindowSplitter\n",
    "from sklearn.linear_model import LogisticRegression\n",
    "from sklearn.ensemble import RandomForestClassifier\n",
    "from sklearn.svm import SVC\n",
    "from sklearn.metrics import accuracy_score\n",
    "from sklearn.pipeline import make_pipeline, Pipeline\n",
    "from sklearn.model_selection import GridSearchCV"
   ]
  },
  {
   "cell_type": "code",
   "execution_count": 6,
   "metadata": {},
   "outputs": [],
   "source": [
    "rs=121\n",
    "stocks=['aapl','googl','nvda','dal','xom','cvx','vz']"
   ]
  },
  {
   "cell_type": "code",
   "execution_count": 7,
   "metadata": {},
   "outputs": [],
   "source": [
    "init_dir_path = str(os.getcwd())\n",
    "data=pd.read_csv(init_dir_path+'/stock_hmm_output.csv',engine='python').drop(['Unnamed: 0'],axis=1)\n",
    "features=['Return','Volatility','HighR','LowR']\n",
    "target='State'\n",
    "train, test = train_test_split(data,test_size=0.2,shuffle=True,random_state=rs,stratify=data['State'])"
   ]
  },
  {
   "cell_type": "code",
   "execution_count": null,
   "metadata": {},
   "outputs": [],
   "source": [
    "#Without TimeSeries\n",
    "accuracy=0\n",
    "ns=5\n",
    "kfold=StratifiedKFold(n_splits=ns,shuffle=True,random_state=121)\n",
    "for train_i, test_i in kfold.split(train,train[target]):\n",
    "    training_set=train.iloc[train_i]\n",
    "    testing_set=train.iloc[test_i]\n",
    "    #Do training here for each model on training_set\n",
    "\n",
    "\n",
    "    #Measure accuracy of the model on testing_set (using accuracy_score should be fine)\n",
    "\n",
    "\n",
    "    #Add the accuracy scores from the multiple iterations\n",
    "\n",
    "#Average the accuracy\n",
    "ns=ns/5\n"
   ]
  },
  {
   "cell_type": "code",
   "execution_count": 32,
   "metadata": {},
   "outputs": [],
   "source": [
    "#With TimeSeries\n",
    "#First Set Aside Testing data\n",
    "final_test=[]\n",
    "l=[]\n",
    "ft_size=400\n",
    "for x in data.groupby(['Ticker']):\n",
    "    final_test.append(x[1][-ft_size:])\n",
    "    l.append(x[1][:-ft_size])\n",
    "testing_size=500\n",
    "training_list=[]\n",
    "testing_list=[]\n",
    "for x in l:\n",
    "    training_list.append(x[:-testing_size])\n",
    "    testing_list.append(x[-testing_size:])\n",
    "splitting=SlidingWindowSplitter(window_length=7,step_length=1,fh=[1])\n",
    "train_x=[]\n",
    "train_y=[]\n",
    "test_x=[]\n",
    "test_y=[]\n",
    "for ttrain in training_list:\n",
    "    for x in splitting.split(ttrain):\n",
    "        train_x.append(ttrain.iloc[x[0]][features].values.flatten())\n",
    "        train_y.append(ttrain.iloc[x[1]][target].values.flatten())\n",
    "for ttest in testing_list:\n",
    "    for x in splitting.split(ttest):\n",
    "        test_x.append(ttest.iloc[x[0]][features].values.flatten())\n",
    "        test_y.append(ttest.iloc[x[1]][target].values.flatten())\n",
    "#Model Training\n",
    "#model=\n",
    "#model.fit(x=train_x,y=train_y)\n",
    "#Model Prediction and Accuracy\n",
    "#accuracy_score(test_y,model.predict(test_x))\n"
   ]
  }
 ],
 "metadata": {
  "kernelspec": {
   "display_name": "erdos_spring_2025",
   "language": "python",
   "name": "python3"
  },
  "language_info": {
   "codemirror_mode": {
    "name": "ipython",
    "version": 3
   },
   "file_extension": ".py",
   "mimetype": "text/x-python",
   "name": "python",
   "nbconvert_exporter": "python",
   "pygments_lexer": "ipython3",
   "version": "3.12.8"
  }
 },
 "nbformat": 4,
 "nbformat_minor": 2
}
