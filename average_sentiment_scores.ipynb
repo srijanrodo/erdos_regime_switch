{
 "cells": [
  {
   "cell_type": "code",
   "execution_count": 1,
   "id": "52ea5790-714e-4f11-9176-190605657876",
   "metadata": {},
   "outputs": [],
   "source": [
    "import pandas as pd\n",
    "import numpy as np"
   ]
  },
  {
   "cell_type": "code",
   "execution_count": 2,
   "id": "6b2720dd-58ed-462e-ac57-926b999b19cd",
   "metadata": {},
   "outputs": [],
   "source": [
    "df = pd.read_csv('sentiment_scored_headlines_FinBERT.csv')"
   ]
  },
  {
   "cell_type": "code",
   "execution_count": 4,
   "id": "03fe7ec3-c8eb-41d4-8364-d22893653386",
   "metadata": {},
   "outputs": [],
   "source": [
    "# Create weight mapping\n",
    "df['weight'] = np.where(df['sentiment_label'] == 'Positive', 1,\n",
    "               np.where(df['sentiment_label'] == 'Negative', -1, 0))"
   ]
  },
  {
   "cell_type": "code",
   "execution_count": 12,
   "id": "5050df37-9a98-48df-8aaf-e964c2ee18fa",
   "metadata": {},
   "outputs": [],
   "source": [
    "# Calculate weighted scores\n",
    "df['weighted_score'] = df['sentiment_score'] * df['weight']\n",
    "df['abs_weight'] = abs(df['weight'])"
   ]
  },
  {
   "cell_type": "code",
   "execution_count": 29,
   "id": "b7f44652-9028-46b4-b7b5-f6abdb24ceef",
   "metadata": {},
   "outputs": [],
   "source": [
    "# Group by stock and date. The sort=False is to ensure that groupby keeps the rows in the same order they were in.\n",
    "grouped = df.groupby(['stock', 'date', 'open', 'close'], sort=False).agg(\n",
    "    total_weighted=('weighted_score', 'sum'),\n",
    "    total_abs_weight=('abs_weight', 'sum')\n",
    ").reset_index()"
   ]
  },
  {
   "cell_type": "code",
   "execution_count": 30,
   "id": "3b683b85-bba5-45dc-958e-27b6c8ca148a",
   "metadata": {},
   "outputs": [],
   "source": [
    "# Calculate final sentiment score with error handling\n",
    "grouped['sentiment_score'] = np.where(\n",
    "    grouped['total_abs_weight'] > 0,\n",
    "    grouped['total_weighted'] / grouped['total_abs_weight'],\n",
    "    0  # Handle neutral-only days\n",
    ")"
   ]
  },
  {
   "cell_type": "code",
   "execution_count": 32,
   "id": "f0b23f91-8b6f-4b9a-9105-ee6e419a3b7a",
   "metadata": {},
   "outputs": [],
   "source": [
    "# Create final dataframe and save\n",
    "final_df = grouped[['stock', 'date', 'open', 'close', 'sentiment_score']]\n",
    "final_df.to_csv('average_sentiment_scores.csv', index=False)"
   ]
  },
  {
   "cell_type": "code",
   "execution_count": 33,
   "id": "98690af9-5c33-4478-94fa-eec04f1da649",
   "metadata": {},
   "outputs": [
    {
     "name": "stdout",
     "output_type": "stream",
     "text": [
      "  stock        date     open    close  sentiment_score\n",
      "0  aapl  2025-03-03  241.790  238.030         0.000002\n",
      "1  aapl  2025-02-28  236.950  241.840        -0.196184\n",
      "2  aapl  2025-02-27  239.410  237.300        -0.990303\n",
      "3  aapl  2025-02-26  244.330  240.360         0.926968\n",
      "4  aapl  2025-02-25  248.000  247.040         0.999885\n",
      "5  aapl  2025-02-24  244.925  247.172        -0.347224\n",
      "6  aapl  2025-02-23  248.000  247.040         0.952590\n",
      "7  aapl  2025-02-21  245.950  245.550         0.000000\n",
      "8  aapl  2025-02-20  244.940  245.830        -0.922531\n",
      "9  aapl  2025-02-19  244.660  244.870         0.761562\n"
     ]
    }
   ],
   "source": [
    "print(final_df.head(10))"
   ]
  }
 ],
 "metadata": {
  "kernelspec": {
   "display_name": "Python (Erdos Institute)",
   "language": "python",
   "name": "erdos_spring_2025"
  },
  "language_info": {
   "codemirror_mode": {
    "name": "ipython",
    "version": 3
   },
   "file_extension": ".py",
   "mimetype": "text/x-python",
   "name": "python",
   "nbconvert_exporter": "python",
   "pygments_lexer": "ipython3",
   "version": "3.12.8"
  }
 },
 "nbformat": 4,
 "nbformat_minor": 5
}
