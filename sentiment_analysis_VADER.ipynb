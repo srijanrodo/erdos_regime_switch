{
 "cells": [
  {
   "cell_type": "code",
   "execution_count": 4,
   "id": "5f256c7c-7af5-4398-9767-68c94b563784",
   "metadata": {},
   "outputs": [],
   "source": [
    "# Import necessary libraries\n",
    "import pandas as pd\n",
    "import nltk\n",
    "from nltk.sentiment import SentimentIntensityAnalyzer"
   ]
  },
  {
   "cell_type": "code",
   "execution_count": 5,
   "id": "4e06b475-25fb-4d19-a38f-89a71913481e",
   "metadata": {},
   "outputs": [
    {
     "name": "stdout",
     "output_type": "stream",
     "text": [
      "Requirement already satisfied: nltk in c:\\users\\sridharv2010\\anaconda3\\lib\\site-packages (3.9.1)\n",
      "Requirement already satisfied: click in c:\\users\\sridharv2010\\anaconda3\\lib\\site-packages (from nltk) (8.1.7)\n",
      "Requirement already satisfied: joblib in c:\\users\\sridharv2010\\anaconda3\\lib\\site-packages (from nltk) (1.4.2)\n",
      "Requirement already satisfied: regex>=2021.8.3 in c:\\users\\sridharv2010\\anaconda3\\lib\\site-packages (from nltk) (2024.9.11)\n",
      "Requirement already satisfied: tqdm in c:\\users\\sridharv2010\\anaconda3\\lib\\site-packages (from nltk) (4.66.5)\n",
      "Requirement already satisfied: colorama in c:\\users\\sridharv2010\\anaconda3\\lib\\site-packages (from click->nltk) (0.4.6)\n"
     ]
    }
   ],
   "source": [
    "!pip install nltk"
   ]
  },
  {
   "cell_type": "code",
   "execution_count": 6,
   "id": "69acd49d-59d0-4623-abf1-e2d8de3de79e",
   "metadata": {},
   "outputs": [
    {
     "name": "stderr",
     "output_type": "stream",
     "text": [
      "[nltk_data] Downloading package vader_lexicon to\n",
      "[nltk_data]     C:\\Users\\sridharv2010\\AppData\\Roaming\\nltk_data...\n",
      "[nltk_data]   Package vader_lexicon is already up-to-date!\n"
     ]
    },
    {
     "name": "stdout",
     "output_type": "stream",
     "text": [
      "                                            headline stock        date  \\\n",
      "0  AI Daily: Analyst sees Apple  Alibaba partners...  aapl  2025-03-03   \n",
      "1  Apple’s iPhone 16e Is Likely to Underwhelm  Sa...  aapl  2025-03-03   \n",
      "2  Apple CEO teases ‘something in the Air’ this week  aapl  2025-03-03   \n",
      "3  Apple’s iPhone ceded market share in China  Eu...  aapl  2025-03-03   \n",
      "4  Apple (AAPL): New Buy Recommendation for This ...  aapl  2025-03-03   \n",
      "\n",
      "     open   close  sentiment_score sentiment_category  \n",
      "0  241.79  238.03           0.3818           positive  \n",
      "1  241.79  238.03           0.0000            neutral  \n",
      "2  241.79  238.03          -0.2960           negative  \n",
      "3  241.79  238.03           0.2960           positive  \n",
      "4  241.79  238.03           0.0000            neutral  \n"
     ]
    }
   ],
   "source": [
    "# Download the VADER lexicon (only needed once)\n",
    "nltk.download('vader_lexicon')\n",
    "\n",
    "# Load the dataset\n",
    "data = pd.read_csv('aggregate.csv')\n",
    "\n",
    "headlines = data['headline']\n",
    "\n",
    "# Initialize the VADER sentiment analyzer\n",
    "sia = SentimentIntensityAnalyzer()\n",
    "\n",
    "# Function to calculate sentiment scores\n",
    "def get_sentiment_scores(text):\n",
    "    scores = sia.polarity_scores(text)\n",
    "    return scores['compound']  # Use the compound score for overall sentiment\n",
    "\n",
    "# Apply the function to each headline\n",
    "data['sentiment_score'] = headlines.apply(get_sentiment_scores)\n",
    "\n",
    "# Categorize sentiment based on the compound score\n",
    "def categorize_sentiment(score):\n",
    "    if score > 0.05:\n",
    "        return 'positive'\n",
    "    elif score < -0.05:\n",
    "        return 'negative'\n",
    "    else:\n",
    "        return 'neutral'\n",
    "\n",
    "data['sentiment_category'] = data['sentiment_score'].apply(categorize_sentiment)\n",
    "\n",
    "# Save the results to a new CSV file\n",
    "data.to_csv('sentiment_scored_VADER.csv', index=False)\n",
    "\n",
    "# Print sample results\n",
    "print(data.head())"
   ]
  }
 ],
 "metadata": {
  "kernelspec": {
   "display_name": "Python 3 (ipykernel)",
   "language": "python",
   "name": "python3"
  },
  "language_info": {
   "codemirror_mode": {
    "name": "ipython",
    "version": 3
   },
   "file_extension": ".py",
   "mimetype": "text/x-python",
   "name": "python",
   "nbconvert_exporter": "python",
   "pygments_lexer": "ipython3",
   "version": "3.12.7"
  }
 },
 "nbformat": 4,
 "nbformat_minor": 5
}
